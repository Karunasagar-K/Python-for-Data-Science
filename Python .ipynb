{
 "cells": [
  {
   "cell_type": "markdown",
   "id": "df5801fa",
   "metadata": {},
   "source": [
    "#                                    Python for Data Science"
   ]
  },
  {
   "cell_type": "code",
   "execution_count": 2,
   "id": "770fd912",
   "metadata": {
    "scrolled": true
   },
   "outputs": [
    {
     "name": "stdout",
     "output_type": "stream",
     "text": [
      "Hello Guvi\n"
     ]
    }
   ],
   "source": [
    "print('Hello Guvi')  "
   ]
  },
  {
   "cell_type": "code",
   "execution_count": 3,
   "id": "9f6f5d5e",
   "metadata": {},
   "outputs": [],
   "source": [
    "## Variable - Variable is container to store the values\n",
    "## Data type - integer,float,string,bool"
   ]
  },
  {
   "cell_type": "code",
   "execution_count": 4,
   "id": "82d4f3c7",
   "metadata": {},
   "outputs": [],
   "source": [
    "a= 10     # int\n",
    "b= 10.5   # float\n",
    "c= 'Word' #string\n",
    "d = True  #bool"
   ]
  },
  {
   "cell_type": "code",
   "execution_count": 5,
   "id": "c6ff8253",
   "metadata": {},
   "outputs": [
    {
     "data": {
      "text/plain": [
       "int"
      ]
     },
     "execution_count": 5,
     "metadata": {},
     "output_type": "execute_result"
    }
   ],
   "source": [
    "type(a)"
   ]
  },
  {
   "cell_type": "code",
   "execution_count": 6,
   "id": "7446e963",
   "metadata": {},
   "outputs": [
    {
     "data": {
      "text/plain": [
       "float"
      ]
     },
     "execution_count": 6,
     "metadata": {},
     "output_type": "execute_result"
    }
   ],
   "source": [
    "type(b)"
   ]
  },
  {
   "cell_type": "code",
   "execution_count": 7,
   "id": "ee15c867",
   "metadata": {},
   "outputs": [
    {
     "data": {
      "text/plain": [
       "str"
      ]
     },
     "execution_count": 7,
     "metadata": {},
     "output_type": "execute_result"
    }
   ],
   "source": [
    "type(c)"
   ]
  },
  {
   "cell_type": "code",
   "execution_count": 8,
   "id": "63c45916",
   "metadata": {},
   "outputs": [
    {
     "data": {
      "text/plain": [
       "bool"
      ]
     },
     "execution_count": 8,
     "metadata": {},
     "output_type": "execute_result"
    }
   ],
   "source": [
    "type(d)"
   ]
  },
  {
   "cell_type": "code",
   "execution_count": 9,
   "id": "f232d2ab",
   "metadata": {},
   "outputs": [],
   "source": [
    "## String - set of multiple characters are called strings"
   ]
  },
  {
   "cell_type": "code",
   "execution_count": 10,
   "id": "70d2bf18",
   "metadata": {},
   "outputs": [],
   "source": [
    "a = \"I enrolled in DS programme\""
   ]
  },
  {
   "cell_type": "code",
   "execution_count": 11,
   "id": "b4720d8a",
   "metadata": {},
   "outputs": [
    {
     "data": {
      "text/plain": [
       "'I enrolled in ds programme'"
      ]
     },
     "execution_count": 11,
     "metadata": {},
     "output_type": "execute_result"
    }
   ],
   "source": [
    "a.capitalize()"
   ]
  },
  {
   "cell_type": "code",
   "execution_count": 12,
   "id": "fe2a388c",
   "metadata": {},
   "outputs": [
    {
     "data": {
      "text/plain": [
       "'I ENROLLED IN DS PROGRAMME'"
      ]
     },
     "execution_count": 12,
     "metadata": {},
     "output_type": "execute_result"
    }
   ],
   "source": [
    "a.upper()"
   ]
  },
  {
   "cell_type": "code",
   "execution_count": 13,
   "id": "169ea288",
   "metadata": {},
   "outputs": [
    {
     "data": {
      "text/plain": [
       "'i enrolled in ds programme'"
      ]
     },
     "execution_count": 13,
     "metadata": {},
     "output_type": "execute_result"
    }
   ],
   "source": [
    "a.lower()"
   ]
  },
  {
   "cell_type": "code",
   "execution_count": 14,
   "id": "0f09ec8c",
   "metadata": {},
   "outputs": [
    {
     "data": {
      "text/plain": [
       "['__add__',\n",
       " '__class__',\n",
       " '__contains__',\n",
       " '__delattr__',\n",
       " '__dir__',\n",
       " '__doc__',\n",
       " '__eq__',\n",
       " '__format__',\n",
       " '__ge__',\n",
       " '__getattribute__',\n",
       " '__getitem__',\n",
       " '__getnewargs__',\n",
       " '__gt__',\n",
       " '__hash__',\n",
       " '__init__',\n",
       " '__init_subclass__',\n",
       " '__iter__',\n",
       " '__le__',\n",
       " '__len__',\n",
       " '__lt__',\n",
       " '__mod__',\n",
       " '__mul__',\n",
       " '__ne__',\n",
       " '__new__',\n",
       " '__reduce__',\n",
       " '__reduce_ex__',\n",
       " '__repr__',\n",
       " '__rmod__',\n",
       " '__rmul__',\n",
       " '__setattr__',\n",
       " '__sizeof__',\n",
       " '__str__',\n",
       " '__subclasshook__',\n",
       " 'capitalize',\n",
       " 'casefold',\n",
       " 'center',\n",
       " 'count',\n",
       " 'encode',\n",
       " 'endswith',\n",
       " 'expandtabs',\n",
       " 'find',\n",
       " 'format',\n",
       " 'format_map',\n",
       " 'index',\n",
       " 'isalnum',\n",
       " 'isalpha',\n",
       " 'isascii',\n",
       " 'isdecimal',\n",
       " 'isdigit',\n",
       " 'isidentifier',\n",
       " 'islower',\n",
       " 'isnumeric',\n",
       " 'isprintable',\n",
       " 'isspace',\n",
       " 'istitle',\n",
       " 'isupper',\n",
       " 'join',\n",
       " 'ljust',\n",
       " 'lower',\n",
       " 'lstrip',\n",
       " 'maketrans',\n",
       " 'partition',\n",
       " 'removeprefix',\n",
       " 'removesuffix',\n",
       " 'replace',\n",
       " 'rfind',\n",
       " 'rindex',\n",
       " 'rjust',\n",
       " 'rpartition',\n",
       " 'rsplit',\n",
       " 'rstrip',\n",
       " 'split',\n",
       " 'splitlines',\n",
       " 'startswith',\n",
       " 'strip',\n",
       " 'swapcase',\n",
       " 'title',\n",
       " 'translate',\n",
       " 'upper',\n",
       " 'zfill']"
      ]
     },
     "execution_count": 14,
     "metadata": {},
     "output_type": "execute_result"
    }
   ],
   "source": [
    "dir(a)"
   ]
  },
  {
   "cell_type": "code",
   "execution_count": 15,
   "id": "ab3b0dcc",
   "metadata": {},
   "outputs": [
    {
     "data": {
      "text/plain": [
       "'I enrolled in DS programme'"
      ]
     },
     "execution_count": 15,
     "metadata": {},
     "output_type": "execute_result"
    }
   ],
   "source": [
    "a"
   ]
  },
  {
   "cell_type": "code",
   "execution_count": 16,
   "id": "17082e4b",
   "metadata": {},
   "outputs": [
    {
     "data": {
      "text/plain": [
       "'I'"
      ]
     },
     "execution_count": 16,
     "metadata": {},
     "output_type": "execute_result"
    }
   ],
   "source": [
    "a[0] #To display the 1st character"
   ]
  },
  {
   "cell_type": "code",
   "execution_count": 17,
   "id": "b0dedb68",
   "metadata": {},
   "outputs": [
    {
     "data": {
      "text/plain": [
       "' '"
      ]
     },
     "execution_count": 17,
     "metadata": {},
     "output_type": "execute_result"
    }
   ],
   "source": [
    "a[1]"
   ]
  },
  {
   "cell_type": "code",
   "execution_count": 18,
   "id": "f36d25e4",
   "metadata": {},
   "outputs": [
    {
     "data": {
      "text/plain": [
       "'e'"
      ]
     },
     "execution_count": 18,
     "metadata": {},
     "output_type": "execute_result"
    }
   ],
   "source": [
    "a[2]"
   ]
  },
  {
   "cell_type": "code",
   "execution_count": 19,
   "id": "bd97d85c",
   "metadata": {},
   "outputs": [
    {
     "data": {
      "text/plain": [
       "'e'"
      ]
     },
     "execution_count": 19,
     "metadata": {},
     "output_type": "execute_result"
    }
   ],
   "source": [
    "a[-1] #To display the last character"
   ]
  },
  {
   "cell_type": "code",
   "execution_count": 20,
   "id": "67678b7c",
   "metadata": {},
   "outputs": [
    {
     "data": {
      "text/plain": [
       "'m'"
      ]
     },
     "execution_count": 20,
     "metadata": {},
     "output_type": "execute_result"
    }
   ],
   "source": [
    "a[-2]"
   ]
  },
  {
   "cell_type": "code",
   "execution_count": 21,
   "id": "1e90bff8",
   "metadata": {},
   "outputs": [
    {
     "data": {
      "text/plain": [
       "'I en'"
      ]
     },
     "execution_count": 21,
     "metadata": {},
     "output_type": "execute_result"
    }
   ],
   "source": [
    "#To display first 5 characters\n",
    "#a[Beginning position : Ending Position]\n",
    "\n",
    "a[0:4] "
   ]
  },
  {
   "cell_type": "code",
   "execution_count": 22,
   "id": "99c54715",
   "metadata": {},
   "outputs": [
    {
     "data": {
      "text/plain": [
       "26"
      ]
     },
     "execution_count": 22,
     "metadata": {},
     "output_type": "execute_result"
    }
   ],
   "source": [
    "len(a) # To find the how many charcters"
   ]
  },
  {
   "cell_type": "code",
   "execution_count": 23,
   "id": "5fc97289",
   "metadata": {},
   "outputs": [
    {
     "data": {
      "text/plain": [
       "'enrolled in DS programme'"
      ]
     },
     "execution_count": 23,
     "metadata": {},
     "output_type": "execute_result"
    }
   ],
   "source": [
    "#To display the character the from 2nd place to end\n",
    "a[2:]"
   ]
  },
  {
   "cell_type": "code",
   "execution_count": 26,
   "id": "17f026cc",
   "metadata": {},
   "outputs": [
    {
     "data": {
      "text/plain": [
       "[4, 3, 2, 1]"
      ]
     },
     "execution_count": 26,
     "metadata": {},
     "output_type": "execute_result"
    }
   ],
   "source": [
    "## Task- 1 Reverse the string\n",
    "a[::-1] #reversing the string\n",
    "## Task- 2 Explore 10 strings functions"
   ]
  },
  {
   "cell_type": "code",
   "execution_count": 27,
   "id": "5b66ac6d",
   "metadata": {},
   "outputs": [],
   "source": [
    "## Advanced data types. Able to store more than one values:\n",
    "\n",
    "a = [1,2,3,4]\n"
   ]
  },
  {
   "cell_type": "code",
   "execution_count": 28,
   "id": "811d785c",
   "metadata": {},
   "outputs": [
    {
     "data": {
      "text/plain": [
       "list"
      ]
     },
     "execution_count": 28,
     "metadata": {},
     "output_type": "execute_result"
    }
   ],
   "source": [
    "type(a)"
   ]
  },
  {
   "cell_type": "code",
   "execution_count": 29,
   "id": "6e200b35",
   "metadata": {},
   "outputs": [
    {
     "data": {
      "text/plain": [
       "1"
      ]
     },
     "execution_count": 29,
     "metadata": {},
     "output_type": "execute_result"
    }
   ],
   "source": [
    "a[0]"
   ]
  },
  {
   "cell_type": "code",
   "execution_count": 30,
   "id": "e67dda93",
   "metadata": {},
   "outputs": [
    {
     "data": {
      "text/plain": [
       "3"
      ]
     },
     "execution_count": 30,
     "metadata": {},
     "output_type": "execute_result"
    }
   ],
   "source": [
    "a[2]"
   ]
  },
  {
   "cell_type": "code",
   "execution_count": 31,
   "id": "5974ad46",
   "metadata": {},
   "outputs": [
    {
     "data": {
      "text/plain": [
       "[1, 2]"
      ]
     },
     "execution_count": 31,
     "metadata": {},
     "output_type": "execute_result"
    }
   ],
   "source": [
    "a[0:2] "
   ]
  },
  {
   "cell_type": "code",
   "execution_count": 32,
   "id": "b7bc6746",
   "metadata": {},
   "outputs": [],
   "source": [
    "a.append(5) #To add only one element in last position"
   ]
  },
  {
   "cell_type": "code",
   "execution_count": 33,
   "id": "ed6f3ed5",
   "metadata": {},
   "outputs": [
    {
     "data": {
      "text/plain": [
       "[1, 2, 3, 4, 5]"
      ]
     },
     "execution_count": 33,
     "metadata": {},
     "output_type": "execute_result"
    }
   ],
   "source": [
    "a"
   ]
  },
  {
   "cell_type": "code",
   "execution_count": 34,
   "id": "1bf7f279",
   "metadata": {},
   "outputs": [],
   "source": [
    "a.clear() #To clear the list"
   ]
  },
  {
   "cell_type": "code",
   "execution_count": 35,
   "id": "d65ca0ef",
   "metadata": {},
   "outputs": [
    {
     "data": {
      "text/plain": [
       "[]"
      ]
     },
     "execution_count": 35,
     "metadata": {},
     "output_type": "execute_result"
    }
   ],
   "source": [
    "a"
   ]
  },
  {
   "cell_type": "code",
   "execution_count": 36,
   "id": "da245214",
   "metadata": {},
   "outputs": [],
   "source": [
    "a=[1,2,3,4]"
   ]
  },
  {
   "cell_type": "code",
   "execution_count": 37,
   "id": "8ca6aa1f",
   "metadata": {},
   "outputs": [
    {
     "data": {
      "text/plain": [
       "[1, 2, 3, 4]"
      ]
     },
     "execution_count": 37,
     "metadata": {},
     "output_type": "execute_result"
    }
   ],
   "source": [
    "b = a.copy() #To copy the exact elemnets in the variable\n",
    "b"
   ]
  },
  {
   "cell_type": "code",
   "execution_count": 38,
   "id": "ec603d68",
   "metadata": {},
   "outputs": [
    {
     "data": {
      "text/plain": [
       "1"
      ]
     },
     "execution_count": 38,
     "metadata": {},
     "output_type": "execute_result"
    }
   ],
   "source": [
    "b.count(1)"
   ]
  },
  {
   "cell_type": "code",
   "execution_count": 40,
   "id": "b436e79a",
   "metadata": {},
   "outputs": [
    {
     "ename": "TypeError",
     "evalue": "list.append() takes exactly one argument (2 given)",
     "output_type": "error",
     "traceback": [
      "\u001b[1;31m---------------------------------------------------------------------------\u001b[0m",
      "\u001b[1;31mTypeError\u001b[0m                                 Traceback (most recent call last)",
      "Cell \u001b[1;32mIn[40], line 1\u001b[0m\n\u001b[1;32m----> 1\u001b[0m \u001b[43ma\u001b[49m\u001b[38;5;241;43m.\u001b[39;49m\u001b[43mappend\u001b[49m\u001b[43m(\u001b[49m\u001b[38;5;241;43m6\u001b[39;49m\u001b[43m,\u001b[49m\u001b[38;5;241;43m7\u001b[39;49m\u001b[43m)\u001b[49m\n\u001b[0;32m      2\u001b[0m a\n",
      "\u001b[1;31mTypeError\u001b[0m: list.append() takes exactly one argument (2 given)"
     ]
    }
   ],
   "source": [
    "a.append(6,7)\n",
    "a"
   ]
  },
  {
   "cell_type": "code",
   "execution_count": 41,
   "id": "e8f832a8",
   "metadata": {},
   "outputs": [
    {
     "data": {
      "text/plain": [
       "[1, 2, 3, 4, [6, 7]]"
      ]
     },
     "execution_count": 41,
     "metadata": {},
     "output_type": "execute_result"
    }
   ],
   "source": [
    "a.append([6,7])\n",
    "a"
   ]
  },
  {
   "cell_type": "code",
   "execution_count": 42,
   "id": "136ff871",
   "metadata": {},
   "outputs": [
    {
     "data": {
      "text/plain": [
       "[1, 2, 3, 4, [6, 7], 8, 9, 10]"
      ]
     },
     "execution_count": 42,
     "metadata": {},
     "output_type": "execute_result"
    }
   ],
   "source": [
    "a.extend([8,9,10]) # To add more than one element\n",
    "a"
   ]
  },
  {
   "cell_type": "code",
   "execution_count": 43,
   "id": "d7850c22",
   "metadata": {},
   "outputs": [
    {
     "ename": "TypeError",
     "evalue": "list.clear() takes no arguments (1 given)",
     "output_type": "error",
     "traceback": [
      "\u001b[1;31m---------------------------------------------------------------------------\u001b[0m",
      "\u001b[1;31mTypeError\u001b[0m                                 Traceback (most recent call last)",
      "Cell \u001b[1;32mIn[43], line 1\u001b[0m\n\u001b[1;32m----> 1\u001b[0m \u001b[43ma\u001b[49m\u001b[38;5;241;43m.\u001b[39;49m\u001b[43mclear\u001b[49m\u001b[43m(\u001b[49m\u001b[38;5;241;43m6\u001b[39;49m\u001b[43m)\u001b[49m\n",
      "\u001b[1;31mTypeError\u001b[0m: list.clear() takes no arguments (1 given)"
     ]
    }
   ],
   "source": [
    "a.clear(6)"
   ]
  },
  {
   "cell_type": "code",
   "execution_count": 44,
   "id": "50b5299d",
   "metadata": {},
   "outputs": [
    {
     "data": {
      "text/plain": [
       "[1, 2, 3, 4, [6, 7], 8, 9, 2, 10]"
      ]
     },
     "execution_count": 44,
     "metadata": {},
     "output_type": "execute_result"
    }
   ],
   "source": [
    "a.insert(-1,2) #To add element in exact position\n",
    "a"
   ]
  },
  {
   "cell_type": "code",
   "execution_count": 45,
   "id": "3a3c917c",
   "metadata": {},
   "outputs": [
    {
     "data": {
      "text/plain": [
       "3"
      ]
     },
     "execution_count": 45,
     "metadata": {},
     "output_type": "execute_result"
    }
   ],
   "source": [
    "a.index(4) #To find the index number"
   ]
  },
  {
   "cell_type": "code",
   "execution_count": 46,
   "id": "018722e6",
   "metadata": {},
   "outputs": [
    {
     "data": {
      "text/plain": [
       "3"
      ]
     },
     "execution_count": 46,
     "metadata": {},
     "output_type": "execute_result"
    }
   ],
   "source": [
    "a.pop(2) # Index position of 2 is removed"
   ]
  },
  {
   "cell_type": "code",
   "execution_count": 47,
   "id": "ed10f6f6",
   "metadata": {},
   "outputs": [
    {
     "data": {
      "text/plain": [
       "[1, 2, 4, [6, 7], 8, 9, 2, 10]"
      ]
     },
     "execution_count": 47,
     "metadata": {},
     "output_type": "execute_result"
    }
   ],
   "source": [
    "a"
   ]
  },
  {
   "cell_type": "code",
   "execution_count": 48,
   "id": "475f70b8",
   "metadata": {},
   "outputs": [],
   "source": [
    "a.remove(2) #To remove the element"
   ]
  },
  {
   "cell_type": "code",
   "execution_count": 49,
   "id": "de81bc31",
   "metadata": {},
   "outputs": [
    {
     "data": {
      "text/plain": [
       "[1, 4, [6, 7], 8, 9, 2, 10]"
      ]
     },
     "execution_count": 49,
     "metadata": {},
     "output_type": "execute_result"
    }
   ],
   "source": [
    "a"
   ]
  },
  {
   "cell_type": "code",
   "execution_count": 50,
   "id": "5137f722",
   "metadata": {},
   "outputs": [
    {
     "data": {
      "text/plain": [
       "[6, 7]"
      ]
     },
     "execution_count": 50,
     "metadata": {},
     "output_type": "execute_result"
    }
   ],
   "source": [
    "a.pop(2)"
   ]
  },
  {
   "cell_type": "code",
   "execution_count": 51,
   "id": "cea7590a",
   "metadata": {},
   "outputs": [
    {
     "data": {
      "text/plain": [
       "[1, 4, 8, 9, 2, 10]"
      ]
     },
     "execution_count": 51,
     "metadata": {},
     "output_type": "execute_result"
    }
   ],
   "source": [
    "a"
   ]
  },
  {
   "cell_type": "code",
   "execution_count": 52,
   "id": "4c865dd0",
   "metadata": {},
   "outputs": [],
   "source": [
    "a.sort()"
   ]
  },
  {
   "cell_type": "code",
   "execution_count": 53,
   "id": "ea433a31",
   "metadata": {},
   "outputs": [
    {
     "data": {
      "text/plain": [
       "[1, 2, 4, 8, 9, 10]"
      ]
     },
     "execution_count": 53,
     "metadata": {},
     "output_type": "execute_result"
    }
   ],
   "source": [
    "a"
   ]
  },
  {
   "cell_type": "code",
   "execution_count": 54,
   "id": "daf24979",
   "metadata": {},
   "outputs": [],
   "source": [
    "a.reverse()"
   ]
  },
  {
   "cell_type": "code",
   "execution_count": 55,
   "id": "0f307df3",
   "metadata": {},
   "outputs": [
    {
     "data": {
      "text/plain": [
       "[10, 9, 8, 4, 2, 1]"
      ]
     },
     "execution_count": 55,
     "metadata": {},
     "output_type": "execute_result"
    }
   ],
   "source": [
    "a"
   ]
  },
  {
   "cell_type": "code",
   "execution_count": 56,
   "id": "295f7351",
   "metadata": {},
   "outputs": [],
   "source": [
    "## Tuple\n",
    "a = (1,2,3,4)"
   ]
  },
  {
   "cell_type": "code",
   "execution_count": 57,
   "id": "accc579e",
   "metadata": {},
   "outputs": [
    {
     "data": {
      "text/plain": [
       "tuple"
      ]
     },
     "execution_count": 57,
     "metadata": {},
     "output_type": "execute_result"
    }
   ],
   "source": [
    "type(a)"
   ]
  },
  {
   "cell_type": "code",
   "execution_count": 58,
   "id": "e9054aa2",
   "metadata": {},
   "outputs": [
    {
     "data": {
      "text/plain": [
       "1"
      ]
     },
     "execution_count": 58,
     "metadata": {},
     "output_type": "execute_result"
    }
   ],
   "source": [
    "a[0]"
   ]
  },
  {
   "cell_type": "code",
   "execution_count": 59,
   "id": "d2767a2b",
   "metadata": {},
   "outputs": [],
   "source": [
    "a=tuple()"
   ]
  },
  {
   "cell_type": "code",
   "execution_count": 60,
   "id": "b8bcf4db",
   "metadata": {},
   "outputs": [
    {
     "data": {
      "text/plain": [
       "tuple"
      ]
     },
     "execution_count": 60,
     "metadata": {},
     "output_type": "execute_result"
    }
   ],
   "source": [
    "type(a)"
   ]
  },
  {
   "cell_type": "code",
   "execution_count": 61,
   "id": "8f100763",
   "metadata": {},
   "outputs": [
    {
     "ename": "AttributeError",
     "evalue": "'tuple' object has no attribute 'append'",
     "output_type": "error",
     "traceback": [
      "\u001b[1;31m---------------------------------------------------------------------------\u001b[0m",
      "\u001b[1;31mAttributeError\u001b[0m                            Traceback (most recent call last)",
      "Cell \u001b[1;32mIn[61], line 1\u001b[0m\n\u001b[1;32m----> 1\u001b[0m \u001b[43ma\u001b[49m\u001b[38;5;241;43m.\u001b[39;49m\u001b[43mappend\u001b[49m()\n",
      "\u001b[1;31mAttributeError\u001b[0m: 'tuple' object has no attribute 'append'"
     ]
    }
   ],
   "source": [
    "a.append() #Non Mutable"
   ]
  },
  {
   "cell_type": "code",
   "execution_count": 62,
   "id": "724bc8d5",
   "metadata": {},
   "outputs": [
    {
     "data": {
      "text/plain": [
       "['__add__',\n",
       " '__class__',\n",
       " '__class_getitem__',\n",
       " '__contains__',\n",
       " '__delattr__',\n",
       " '__dir__',\n",
       " '__doc__',\n",
       " '__eq__',\n",
       " '__format__',\n",
       " '__ge__',\n",
       " '__getattribute__',\n",
       " '__getitem__',\n",
       " '__getnewargs__',\n",
       " '__gt__',\n",
       " '__hash__',\n",
       " '__init__',\n",
       " '__init_subclass__',\n",
       " '__iter__',\n",
       " '__le__',\n",
       " '__len__',\n",
       " '__lt__',\n",
       " '__mul__',\n",
       " '__ne__',\n",
       " '__new__',\n",
       " '__reduce__',\n",
       " '__reduce_ex__',\n",
       " '__repr__',\n",
       " '__rmul__',\n",
       " '__setattr__',\n",
       " '__sizeof__',\n",
       " '__str__',\n",
       " '__subclasshook__',\n",
       " 'count',\n",
       " 'index']"
      ]
     },
     "execution_count": 62,
     "metadata": {},
     "output_type": "execute_result"
    }
   ],
   "source": [
    "dir(a)"
   ]
  },
  {
   "cell_type": "code",
   "execution_count": 63,
   "id": "2051c5e4",
   "metadata": {},
   "outputs": [],
   "source": [
    "a=(1,2,3,4)"
   ]
  },
  {
   "cell_type": "code",
   "execution_count": 64,
   "id": "309d930e",
   "metadata": {},
   "outputs": [
    {
     "data": {
      "text/plain": [
       "1"
      ]
     },
     "execution_count": 64,
     "metadata": {},
     "output_type": "execute_result"
    }
   ],
   "source": [
    "a.count(1) #To find the no of occurances"
   ]
  },
  {
   "cell_type": "code",
   "execution_count": 65,
   "id": "0e52f84d",
   "metadata": {},
   "outputs": [
    {
     "data": {
      "text/plain": [
       "0"
      ]
     },
     "execution_count": 65,
     "metadata": {},
     "output_type": "execute_result"
    }
   ],
   "source": [
    "a.index(1) #To Find the index number"
   ]
  },
  {
   "cell_type": "code",
   "execution_count": 66,
   "id": "ed61d769",
   "metadata": {},
   "outputs": [
    {
     "data": {
      "text/plain": [
       "(1, 2)"
      ]
     },
     "execution_count": 66,
     "metadata": {},
     "output_type": "execute_result"
    }
   ],
   "source": [
    "a[0:2]"
   ]
  },
  {
   "cell_type": "code",
   "execution_count": 67,
   "id": "2abf60c0",
   "metadata": {},
   "outputs": [
    {
     "ename": "TypeError",
     "evalue": "'tuple' object does not support item assignment",
     "output_type": "error",
     "traceback": [
      "\u001b[1;31m---------------------------------------------------------------------------\u001b[0m",
      "\u001b[1;31mTypeError\u001b[0m                                 Traceback (most recent call last)",
      "Cell \u001b[1;32mIn[67], line 1\u001b[0m\n\u001b[1;32m----> 1\u001b[0m a[\u001b[38;5;241m0\u001b[39m] \u001b[38;5;241m=\u001b[39m \u001b[38;5;241m10\u001b[39m\n",
      "\u001b[1;31mTypeError\u001b[0m: 'tuple' object does not support item assignment"
     ]
    }
   ],
   "source": [
    "a[0] = 10"
   ]
  },
  {
   "cell_type": "code",
   "execution_count": 69,
   "id": "3e15ba3a",
   "metadata": {},
   "outputs": [
    {
     "data": {
      "text/plain": [
       "{1, 2, 3, 4}"
      ]
     },
     "execution_count": 69,
     "metadata": {},
     "output_type": "execute_result"
    }
   ],
   "source": [
    "s1 = {1,2}\n",
    "s2 = {3,4}\n",
    "s1.union(s2)"
   ]
  },
  {
   "cell_type": "code",
   "execution_count": 70,
   "id": "b122f458",
   "metadata": {},
   "outputs": [
    {
     "data": {
      "text/plain": [
       "['__and__',\n",
       " '__class__',\n",
       " '__class_getitem__',\n",
       " '__contains__',\n",
       " '__delattr__',\n",
       " '__dir__',\n",
       " '__doc__',\n",
       " '__eq__',\n",
       " '__format__',\n",
       " '__ge__',\n",
       " '__getattribute__',\n",
       " '__gt__',\n",
       " '__hash__',\n",
       " '__iand__',\n",
       " '__init__',\n",
       " '__init_subclass__',\n",
       " '__ior__',\n",
       " '__isub__',\n",
       " '__iter__',\n",
       " '__ixor__',\n",
       " '__le__',\n",
       " '__len__',\n",
       " '__lt__',\n",
       " '__ne__',\n",
       " '__new__',\n",
       " '__or__',\n",
       " '__rand__',\n",
       " '__reduce__',\n",
       " '__reduce_ex__',\n",
       " '__repr__',\n",
       " '__ror__',\n",
       " '__rsub__',\n",
       " '__rxor__',\n",
       " '__setattr__',\n",
       " '__sizeof__',\n",
       " '__str__',\n",
       " '__sub__',\n",
       " '__subclasshook__',\n",
       " '__xor__',\n",
       " 'add',\n",
       " 'clear',\n",
       " 'copy',\n",
       " 'difference',\n",
       " 'difference_update',\n",
       " 'discard',\n",
       " 'intersection',\n",
       " 'intersection_update',\n",
       " 'isdisjoint',\n",
       " 'issubset',\n",
       " 'issuperset',\n",
       " 'pop',\n",
       " 'remove',\n",
       " 'symmetric_difference',\n",
       " 'symmetric_difference_update',\n",
       " 'union',\n",
       " 'update']"
      ]
     },
     "execution_count": 70,
     "metadata": {},
     "output_type": "execute_result"
    }
   ],
   "source": [
    "dir(s1)"
   ]
  },
  {
   "cell_type": "code",
   "execution_count": 77,
   "id": "498a1045",
   "metadata": {},
   "outputs": [
    {
     "data": {
      "text/plain": [
       "{3}"
      ]
     },
     "execution_count": 77,
     "metadata": {},
     "output_type": "execute_result"
    }
   ],
   "source": [
    "s1 = {1,2,3}\n",
    "s2 = {3,4}\n",
    "s1.intersection(s2)"
   ]
  },
  {
   "cell_type": "code",
   "execution_count": 78,
   "id": "04ab5636",
   "metadata": {},
   "outputs": [
    {
     "data": {
      "text/plain": [
       "{1, 2, 3}"
      ]
     },
     "execution_count": 78,
     "metadata": {},
     "output_type": "execute_result"
    }
   ],
   "source": [
    "s1"
   ]
  },
  {
   "cell_type": "code",
   "execution_count": 79,
   "id": "3bd43218",
   "metadata": {},
   "outputs": [],
   "source": [
    "s1 = {1,2,3}\n",
    "s2 = {3,4}\n",
    "s1.intersection_update(s2)"
   ]
  },
  {
   "cell_type": "code",
   "execution_count": 80,
   "id": "96af0cfd",
   "metadata": {},
   "outputs": [
    {
     "data": {
      "text/plain": [
       "{3}"
      ]
     },
     "execution_count": 80,
     "metadata": {},
     "output_type": "execute_result"
    }
   ],
   "source": [
    "s1"
   ]
  },
  {
   "cell_type": "code",
   "execution_count": 84,
   "id": "4f1f9190",
   "metadata": {},
   "outputs": [
    {
     "data": {
      "text/plain": [
       "{1, 2}"
      ]
     },
     "execution_count": 84,
     "metadata": {},
     "output_type": "execute_result"
    }
   ],
   "source": [
    "s1 = {1,2,3,4}\n",
    "s2 = {3,4,5,6}\n",
    "\n",
    "s1.difference(s2)"
   ]
  },
  {
   "cell_type": "code",
   "execution_count": 86,
   "id": "819c13e0",
   "metadata": {},
   "outputs": [
    {
     "data": {
      "text/plain": [
       "{1, 2}"
      ]
     },
     "execution_count": 86,
     "metadata": {},
     "output_type": "execute_result"
    }
   ],
   "source": [
    "s1.difference_update(s2)\n",
    "s1"
   ]
  },
  {
   "cell_type": "code",
   "execution_count": 1,
   "id": "d1ef4dcf",
   "metadata": {},
   "outputs": [],
   "source": [
    "# Dictionary\n",
    "\n",
    "m=[89,98,87,99,100]\n",
    "a=[22,21,23,24,21]\n",
    "a=['Ram',23,'23-01-2024']\n"
   ]
  },
  {
   "cell_type": "code",
   "execution_count": 2,
   "id": "d59af4cd",
   "metadata": {},
   "outputs": [
    {
     "data": {
      "text/plain": [
       "{'name': 'Ram', 'age': 23}"
      ]
     },
     "execution_count": 2,
     "metadata": {},
     "output_type": "execute_result"
    }
   ],
   "source": [
    "d ={'name':'Ram','age':23}\n",
    "d"
   ]
  },
  {
   "cell_type": "code",
   "execution_count": 3,
   "id": "34274e24",
   "metadata": {},
   "outputs": [
    {
     "data": {
      "text/plain": [
       "dict"
      ]
     },
     "execution_count": 3,
     "metadata": {},
     "output_type": "execute_result"
    }
   ],
   "source": [
    "type(d)"
   ]
  },
  {
   "cell_type": "code",
   "execution_count": 4,
   "id": "4d4e328f",
   "metadata": {},
   "outputs": [],
   "source": [
    "d['marks'] = 100"
   ]
  },
  {
   "cell_type": "code",
   "execution_count": 6,
   "id": "6b06dbec",
   "metadata": {},
   "outputs": [
    {
     "data": {
      "text/plain": [
       "{'name': 'Ram', 'age': 23, 'marks': 100}"
      ]
     },
     "execution_count": 6,
     "metadata": {},
     "output_type": "execute_result"
    }
   ],
   "source": [
    "d"
   ]
  },
  {
   "cell_type": "code",
   "execution_count": 7,
   "id": "409473d6",
   "metadata": {},
   "outputs": [
    {
     "data": {
      "text/plain": [
       "{'name': 'Ram', 'age': 23, 'marks': 100, 'gender': 'Male'}"
      ]
     },
     "execution_count": 7,
     "metadata": {},
     "output_type": "execute_result"
    }
   ],
   "source": [
    "d['gender'] = 'Male'\n",
    "d"
   ]
  },
  {
   "cell_type": "code",
   "execution_count": 8,
   "id": "8d81b607",
   "metadata": {},
   "outputs": [
    {
     "data": {
      "text/plain": [
       "['__class__',\n",
       " '__class_getitem__',\n",
       " '__contains__',\n",
       " '__delattr__',\n",
       " '__delitem__',\n",
       " '__dir__',\n",
       " '__doc__',\n",
       " '__eq__',\n",
       " '__format__',\n",
       " '__ge__',\n",
       " '__getattribute__',\n",
       " '__getitem__',\n",
       " '__gt__',\n",
       " '__hash__',\n",
       " '__init__',\n",
       " '__init_subclass__',\n",
       " '__ior__',\n",
       " '__iter__',\n",
       " '__le__',\n",
       " '__len__',\n",
       " '__lt__',\n",
       " '__ne__',\n",
       " '__new__',\n",
       " '__or__',\n",
       " '__reduce__',\n",
       " '__reduce_ex__',\n",
       " '__repr__',\n",
       " '__reversed__',\n",
       " '__ror__',\n",
       " '__setattr__',\n",
       " '__setitem__',\n",
       " '__sizeof__',\n",
       " '__str__',\n",
       " '__subclasshook__',\n",
       " 'clear',\n",
       " 'copy',\n",
       " 'fromkeys',\n",
       " 'get',\n",
       " 'items',\n",
       " 'keys',\n",
       " 'pop',\n",
       " 'popitem',\n",
       " 'setdefault',\n",
       " 'update',\n",
       " 'values']"
      ]
     },
     "execution_count": 8,
     "metadata": {},
     "output_type": "execute_result"
    }
   ],
   "source": [
    "dir(d)"
   ]
  },
  {
   "cell_type": "code",
   "execution_count": 9,
   "id": "39d51353",
   "metadata": {},
   "outputs": [
    {
     "data": {
      "text/plain": [
       "{'Batsman': 'Virat', 'Runs': 120}"
      ]
     },
     "execution_count": 9,
     "metadata": {},
     "output_type": "execute_result"
    }
   ],
   "source": [
    "Scorecard={\"Batsman\":\"Virat\",\"Runs\":120}\n",
    "Scorecard"
   ]
  },
  {
   "cell_type": "code",
   "execution_count": 10,
   "id": "031393a2",
   "metadata": {},
   "outputs": [],
   "source": [
    "Scorecard['6s'] = 6"
   ]
  },
  {
   "cell_type": "code",
   "execution_count": 11,
   "id": "e3464886",
   "metadata": {},
   "outputs": [
    {
     "data": {
      "text/plain": [
       "{'Batsman': 'Virat', 'Runs': 120, '6s': 6}"
      ]
     },
     "execution_count": 11,
     "metadata": {},
     "output_type": "execute_result"
    }
   ],
   "source": [
    "Scorecard"
   ]
  },
  {
   "cell_type": "code",
   "execution_count": 12,
   "id": "48fc2e85",
   "metadata": {},
   "outputs": [
    {
     "data": {
      "text/plain": [
       "{'Batsman': 'Virat', 'Runs': 120, '6s': 6, '4s': 15}"
      ]
     },
     "execution_count": 12,
     "metadata": {},
     "output_type": "execute_result"
    }
   ],
   "source": [
    "Scorecard['4s'] = 15\n",
    "Scorecard"
   ]
  },
  {
   "cell_type": "markdown",
   "id": "11d734dc",
   "metadata": {},
   "source": [
    "### Loop"
   ]
  },
  {
   "cell_type": "code",
   "execution_count": 13,
   "id": "b7219c43",
   "metadata": {},
   "outputs": [
    {
     "name": "stdout",
     "output_type": "stream",
     "text": [
      "Hello\n"
     ]
    }
   ],
   "source": [
    "print('Hello')"
   ]
  },
  {
   "cell_type": "code",
   "execution_count": 16,
   "id": "d4d13ba6",
   "metadata": {},
   "outputs": [
    {
     "name": "stdout",
     "output_type": "stream",
     "text": [
      "Hello\n",
      "Hello\n",
      "Hello\n",
      "Hello\n",
      "Hello\n"
     ]
    }
   ],
   "source": [
    "#### Need to Print repeat for 5 times\n",
    "for i in range(0,5):\n",
    "    print('Hello')"
   ]
  },
  {
   "cell_type": "code",
   "execution_count": 17,
   "id": "96dd7161",
   "metadata": {},
   "outputs": [
    {
     "name": "stdout",
     "output_type": "stream",
     "text": [
      "Hello\n",
      "Hello\n",
      "Hello\n",
      "Hello\n",
      "Hello\n",
      "Hello\n",
      "Hello\n",
      "Hello\n",
      "Hello\n",
      "Hello\n"
     ]
    }
   ],
   "source": [
    "### Exercise\n",
    "for i in range(0,10):\n",
    "    print('Hello')"
   ]
  },
  {
   "cell_type": "code",
   "execution_count": 20,
   "id": "2a8b5301",
   "metadata": {},
   "outputs": [
    {
     "name": "stdout",
     "output_type": "stream",
     "text": [
      "Hello\n",
      "Hello\n",
      "Hello\n",
      "Hello\n"
     ]
    }
   ],
   "source": [
    "for i in range (4):\n",
    "    print('Hello')"
   ]
  },
  {
   "cell_type": "code",
   "execution_count": 24,
   "id": "2c8e58ce",
   "metadata": {},
   "outputs": [
    {
     "name": "stdout",
     "output_type": "stream",
     "text": [
      "0\n",
      "1\n",
      "2\n",
      "3\n",
      "4\n",
      "5\n",
      "6\n",
      "7\n",
      "8\n",
      "9\n",
      "10\n"
     ]
    }
   ],
   "source": [
    "for i in range(0,11):\n",
    "    print (i)"
   ]
  },
  {
   "cell_type": "code",
   "execution_count": 26,
   "id": "457e7440",
   "metadata": {},
   "outputs": [
    {
     "name": "stdout",
     "output_type": "stream",
     "text": [
      "0\n",
      "1\n",
      "2\n",
      "3\n",
      "4\n",
      "5\n",
      "6\n",
      "7\n",
      "8\n",
      "9\n",
      "10\n"
     ]
    }
   ],
   "source": [
    "for i in range(11):\n",
    "    print (i)"
   ]
  },
  {
   "cell_type": "code",
   "execution_count": 27,
   "id": "8be6ab68",
   "metadata": {},
   "outputs": [],
   "source": [
    "#range(Start position,end position,step)"
   ]
  },
  {
   "cell_type": "code",
   "execution_count": 35,
   "id": "ff776a08",
   "metadata": {},
   "outputs": [
    {
     "name": "stdout",
     "output_type": "stream",
     "text": [
      "0\n",
      "2\n",
      "4\n",
      "6\n",
      "8\n",
      "10\n"
     ]
    }
   ],
   "source": [
    "for i in range(0,11,2):\n",
    "    print(i)"
   ]
  },
  {
   "cell_type": "code",
   "execution_count": 37,
   "id": "e71c67fc",
   "metadata": {},
   "outputs": [
    {
     "name": "stdout",
     "output_type": "stream",
     "text": [
      "1\n",
      "3\n",
      "5\n",
      "7\n",
      "9\n"
     ]
    }
   ],
   "source": [
    "for i in range (1,11,2):\n",
    "    print (i)"
   ]
  },
  {
   "cell_type": "code",
   "execution_count": 40,
   "id": "05e270c1",
   "metadata": {},
   "outputs": [
    {
     "name": "stdout",
     "output_type": "stream",
     "text": [
      "0\n",
      "5\n",
      "10\n",
      "15\n",
      "20\n",
      "25\n",
      "30\n",
      "35\n",
      "40\n",
      "45\n",
      "50\n",
      "55\n",
      "60\n",
      "65\n",
      "70\n",
      "75\n",
      "80\n",
      "85\n",
      "90\n",
      "95\n",
      "100\n"
     ]
    }
   ],
   "source": [
    "for i in range(0,101,5):\n",
    "    print(i)"
   ]
  },
  {
   "cell_type": "code",
   "execution_count": 41,
   "id": "347fd27b",
   "metadata": {},
   "outputs": [
    {
     "name": "stdout",
     "output_type": "stream",
     "text": [
      "0\n",
      "10\n",
      "20\n",
      "30\n",
      "40\n",
      "50\n",
      "60\n",
      "70\n",
      "80\n",
      "90\n",
      "100\n"
     ]
    }
   ],
   "source": [
    "for i in range(0,101,10):\n",
    "    print(i)"
   ]
  },
  {
   "cell_type": "code",
   "execution_count": 43,
   "id": "badc9e96",
   "metadata": {},
   "outputs": [
    {
     "name": "stdout",
     "output_type": "stream",
     "text": [
      "0\n",
      "1\n",
      "4\n",
      "9\n",
      "16\n",
      "25\n",
      "36\n",
      "49\n",
      "64\n",
      "81\n",
      "100\n",
      "121\n",
      "144\n",
      "169\n",
      "196\n",
      "225\n",
      "256\n",
      "289\n",
      "324\n",
      "361\n",
      "400\n",
      "441\n",
      "484\n",
      "529\n",
      "576\n",
      "625\n",
      "676\n",
      "729\n",
      "784\n",
      "841\n",
      "900\n",
      "961\n",
      "1024\n",
      "1089\n",
      "1156\n",
      "1225\n",
      "1296\n",
      "1369\n",
      "1444\n",
      "1521\n",
      "1600\n",
      "1681\n",
      "1764\n",
      "1849\n",
      "1936\n",
      "2025\n",
      "2116\n",
      "2209\n",
      "2304\n",
      "2401\n",
      "2500\n",
      "2601\n",
      "2704\n",
      "2809\n",
      "2916\n",
      "3025\n",
      "3136\n",
      "3249\n",
      "3364\n",
      "3481\n",
      "3600\n",
      "3721\n",
      "3844\n",
      "3969\n",
      "4096\n",
      "4225\n",
      "4356\n",
      "4489\n",
      "4624\n",
      "4761\n",
      "4900\n",
      "5041\n",
      "5184\n",
      "5329\n",
      "5476\n",
      "5625\n",
      "5776\n",
      "5929\n",
      "6084\n",
      "6241\n",
      "6400\n",
      "6561\n",
      "6724\n",
      "6889\n",
      "7056\n",
      "7225\n",
      "7396\n",
      "7569\n",
      "7744\n",
      "7921\n",
      "8100\n",
      "8281\n",
      "8464\n",
      "8649\n",
      "8836\n",
      "9025\n",
      "9216\n",
      "9409\n",
      "9604\n",
      "9801\n",
      "10000\n"
     ]
    }
   ],
   "source": [
    "for i in range(0,101):\n",
    "    print(i*i)"
   ]
  },
  {
   "cell_type": "code",
   "execution_count": 44,
   "id": "9b02abb9",
   "metadata": {},
   "outputs": [
    {
     "data": {
      "text/plain": [
       "[2, 4, 6, 8, 10]"
      ]
     },
     "execution_count": 44,
     "metadata": {},
     "output_type": "execute_result"
    }
   ],
   "source": [
    "a = [2,4,6,8,10]\n",
    "a"
   ]
  },
  {
   "cell_type": "code",
   "execution_count": 45,
   "id": "2b69fbcc",
   "metadata": {},
   "outputs": [
    {
     "name": "stdout",
     "output_type": "stream",
     "text": [
      "2\n",
      "4\n",
      "6\n",
      "8\n",
      "10\n"
     ]
    }
   ],
   "source": [
    "for i in a:\n",
    "    print(i)"
   ]
  },
  {
   "cell_type": "code",
   "execution_count": 47,
   "id": "17286e24",
   "metadata": {},
   "outputs": [
    {
     "name": "stdout",
     "output_type": "stream",
     "text": [
      "2\n",
      "4\n",
      "6\n"
     ]
    }
   ],
   "source": [
    "t =(2,4,6)\n",
    "for i in t:\n",
    "    print(i)"
   ]
  },
  {
   "cell_type": "code",
   "execution_count": 48,
   "id": "591392a5",
   "metadata": {},
   "outputs": [
    {
     "data": {
      "text/plain": [
       "{'name': 'Ram', 'age': 23, 'marks': 100, 'gender': 'Male'}"
      ]
     },
     "execution_count": 48,
     "metadata": {},
     "output_type": "execute_result"
    }
   ],
   "source": [
    "d"
   ]
  },
  {
   "cell_type": "code",
   "execution_count": 49,
   "id": "2525aa29",
   "metadata": {},
   "outputs": [
    {
     "name": "stdout",
     "output_type": "stream",
     "text": [
      "name\n",
      "age\n",
      "marks\n",
      "gender\n"
     ]
    }
   ],
   "source": [
    "for i in d:\n",
    "    print(i)"
   ]
  },
  {
   "cell_type": "code",
   "execution_count": 53,
   "id": "186abca8",
   "metadata": {},
   "outputs": [
    {
     "name": "stdout",
     "output_type": "stream",
     "text": [
      "('name', 'Ram')\n",
      "('age', 23)\n",
      "('marks', 100)\n",
      "('gender', 'Male')\n"
     ]
    }
   ],
   "source": [
    "for i in d.items():\n",
    "    print(i)"
   ]
  },
  {
   "cell_type": "code",
   "execution_count": 54,
   "id": "a23d5e4a",
   "metadata": {},
   "outputs": [
    {
     "name": "stdout",
     "output_type": "stream",
     "text": [
      "name\n",
      "age\n",
      "marks\n",
      "gender\n"
     ]
    }
   ],
   "source": [
    "for i in d.keys():\n",
    "    print(i)"
   ]
  },
  {
   "cell_type": "code",
   "execution_count": 55,
   "id": "8f9b9b7b",
   "metadata": {},
   "outputs": [
    {
     "name": "stdout",
     "output_type": "stream",
     "text": [
      "Ram\n",
      "23\n",
      "100\n",
      "Male\n"
     ]
    }
   ],
   "source": [
    "for i in d.values():\n",
    "    print(i)"
   ]
  },
  {
   "cell_type": "markdown",
   "id": "080a6961",
   "metadata": {},
   "source": [
    "### Branching"
   ]
  },
  {
   "cell_type": "code",
   "execution_count": 58,
   "id": "db84534c",
   "metadata": {},
   "outputs": [],
   "source": [
    "m=48\n",
    "\n",
    "if m > 50:\n",
    "    print('Pass')"
   ]
  },
  {
   "cell_type": "code",
   "execution_count": 59,
   "id": "907d311a",
   "metadata": {},
   "outputs": [
    {
     "name": "stdout",
     "output_type": "stream",
     "text": [
      "Fail\n"
     ]
    }
   ],
   "source": [
    "if m > 50:\n",
    "    print('pass')\n",
    "else:\n",
    "    print('Fail')"
   ]
  },
  {
   "cell_type": "code",
   "execution_count": 61,
   "id": "2c5df768",
   "metadata": {},
   "outputs": [
    {
     "name": "stdout",
     "output_type": "stream",
     "text": [
      "Distinction\n"
     ]
    }
   ],
   "source": [
    "#Task-1\n",
    "\n",
    "m=85\n",
    "\n",
    "if m > 80:\n",
    "    print('Distinction')\n",
    "else:\n",
    "    print('Firstclass')"
   ]
  },
  {
   "cell_type": "code",
   "execution_count": 62,
   "id": "e3913718",
   "metadata": {},
   "outputs": [
    {
     "name": "stdout",
     "output_type": "stream",
     "text": [
      "Enter the marks:98\n"
     ]
    }
   ],
   "source": [
    "m = input(\"Enter the marks:\")"
   ]
  },
  {
   "cell_type": "code",
   "execution_count": 63,
   "id": "2321cf00",
   "metadata": {},
   "outputs": [
    {
     "data": {
      "text/plain": [
       "str"
      ]
     },
     "execution_count": 63,
     "metadata": {},
     "output_type": "execute_result"
    }
   ],
   "source": [
    "type(m)"
   ]
  },
  {
   "cell_type": "code",
   "execution_count": 64,
   "id": "2ac65f40",
   "metadata": {},
   "outputs": [
    {
     "name": "stdout",
     "output_type": "stream",
     "text": [
      "Enter the marks:98\n"
     ]
    }
   ],
   "source": [
    "m = int(input('Enter the marks:'))"
   ]
  },
  {
   "cell_type": "code",
   "execution_count": 65,
   "id": "fb4d72ae",
   "metadata": {},
   "outputs": [
    {
     "data": {
      "text/plain": [
       "int"
      ]
     },
     "execution_count": 65,
     "metadata": {},
     "output_type": "execute_result"
    }
   ],
   "source": [
    "type(m)"
   ]
  },
  {
   "cell_type": "code",
   "execution_count": 66,
   "id": "ffe8c51c",
   "metadata": {},
   "outputs": [
    {
     "name": "stdout",
     "output_type": "stream",
     "text": [
      "Enter the marks:85\n",
      "pass\n"
     ]
    }
   ],
   "source": [
    "m = int(input('Enter the marks:'))\n",
    "\n",
    "if m > 50:\n",
    "    print('pass')\n",
    "else:\n",
    "    print('Fail')"
   ]
  },
  {
   "cell_type": "code",
   "execution_count": 71,
   "id": "47ca91a8",
   "metadata": {},
   "outputs": [
    {
     "name": "stdout",
     "output_type": "stream",
     "text": [
      "Enter the marks:50\n",
      "Third class\n"
     ]
    }
   ],
   "source": [
    "m = int(input('Enter the marks:'))\n",
    "\n",
    "if m > 80:\n",
    "    print('Distinction')\n",
    "elif m > 70:\n",
    "    print('First class')\n",
    "elif m > 60:\n",
    "    print('Second class')\n",
    "elif m >= 50:\n",
    "    print('Third class')    \n",
    "else:\n",
    "    print('Fail')"
   ]
  },
  {
   "cell_type": "code",
   "execution_count": 73,
   "id": "6419615b",
   "metadata": {},
   "outputs": [
    {
     "name": "stdout",
     "output_type": "stream",
     "text": [
      "Enter the marks:94\n",
      "Distinction\n",
      "Awesome\n"
     ]
    }
   ],
   "source": [
    "#Nested If - For Checking two coondition\n",
    "m = int(input('Enter the marks:'))\n",
    "\n",
    "if m > 80:\n",
    "    print('Distinction')\n",
    "    if m > 90:\n",
    "        print('Awesome')\n",
    "elif m > 70:\n",
    "    print('First class')\n",
    "elif m > 60:\n",
    "    print('Second class')\n",
    "elif m >= 50:\n",
    "    print('Third class')    \n",
    "else:\n",
    "    print('Fail')"
   ]
  },
  {
   "cell_type": "code",
   "execution_count": 77,
   "id": "5c102b60",
   "metadata": {},
   "outputs": [
    {
     "name": "stdout",
     "output_type": "stream",
     "text": [
      "0\n",
      "2\n",
      "4\n",
      "6\n",
      "8\n"
     ]
    }
   ],
   "source": [
    "for i in range (10):\n",
    "    if i %2 == 0:\n",
    "        print(i)"
   ]
  },
  {
   "cell_type": "code",
   "execution_count": 82,
   "id": "f03558b3",
   "metadata": {},
   "outputs": [
    {
     "name": "stdout",
     "output_type": "stream",
     "text": [
      "0\n",
      "Hi\n",
      "1\n",
      "Hi\n",
      "2\n",
      "Hi\n",
      "3\n",
      "Hi\n",
      "4\n",
      "Hi\n",
      "5\n"
     ]
    }
   ],
   "source": [
    "for i in range(10):\n",
    "    print(i)\n",
    "    if i == 5:\n",
    "        break;\n",
    "    print('Hi')"
   ]
  },
  {
   "cell_type": "code",
   "execution_count": 80,
   "id": "ec7c7677",
   "metadata": {},
   "outputs": [
    {
     "name": "stdout",
     "output_type": "stream",
     "text": [
      "0\n",
      "Hi\n",
      "1\n",
      "Hi\n",
      "2\n",
      "Hi\n",
      "3\n",
      "Hi\n",
      "4\n",
      "Hi\n",
      "5\n",
      "6\n",
      "Hi\n",
      "7\n",
      "Hi\n",
      "8\n",
      "Hi\n",
      "9\n",
      "Hi\n"
     ]
    }
   ],
   "source": [
    "for i in range(10):\n",
    "    print(i)\n",
    "    if i == 5:\n",
    "        continue;\n",
    "    print('Hi')"
   ]
  },
  {
   "cell_type": "code",
   "execution_count": null,
   "id": "e2ba0b49",
   "metadata": {},
   "outputs": [],
   "source": [
    "i = 1\n",
    "while i < 6:\n",
    "    print(i)\n",
    "    i += 1"
   ]
  },
  {
   "cell_type": "markdown",
   "id": "431b4d73",
   "metadata": {},
   "source": [
    "### Function"
   ]
  },
  {
   "cell_type": "code",
   "execution_count": 88,
   "id": "097091dd",
   "metadata": {},
   "outputs": [],
   "source": [
    "def simple():\n",
    "    print('Hello')"
   ]
  },
  {
   "cell_type": "code",
   "execution_count": 89,
   "id": "be891f85",
   "metadata": {},
   "outputs": [
    {
     "name": "stdout",
     "output_type": "stream",
     "text": [
      "Hello\n"
     ]
    }
   ],
   "source": [
    "simple()"
   ]
  },
  {
   "cell_type": "markdown",
   "id": "35742266",
   "metadata": {},
   "source": [
    "Types\n",
    "\n",
    "* User Defined Function\n",
    "\n",
    "* In-Build Function\n",
    "\n",
    "* Lambda Function"
   ]
  },
  {
   "cell_type": "code",
   "execution_count": 90,
   "id": "b705b1df",
   "metadata": {},
   "outputs": [],
   "source": [
    "def simple(n):\n",
    "    print(n)"
   ]
  },
  {
   "cell_type": "code",
   "execution_count": 91,
   "id": "64e27e64",
   "metadata": {},
   "outputs": [
    {
     "name": "stdout",
     "output_type": "stream",
     "text": [
      "10\n"
     ]
    }
   ],
   "source": [
    "simple(10)"
   ]
  },
  {
   "cell_type": "code",
   "execution_count": 92,
   "id": "ab1382fa",
   "metadata": {},
   "outputs": [],
   "source": [
    "def add(a,b):\n",
    "    return a+b"
   ]
  },
  {
   "cell_type": "code",
   "execution_count": 93,
   "id": "5e4d600a",
   "metadata": {},
   "outputs": [
    {
     "data": {
      "text/plain": [
       "15"
      ]
     },
     "execution_count": 93,
     "metadata": {},
     "output_type": "execute_result"
    }
   ],
   "source": [
    "add(10,5)"
   ]
  },
  {
   "cell_type": "code",
   "execution_count": 94,
   "id": "969c8c5f",
   "metadata": {},
   "outputs": [
    {
     "data": {
      "text/plain": [
       "8"
      ]
     },
     "execution_count": 94,
     "metadata": {},
     "output_type": "execute_result"
    }
   ],
   "source": [
    "add(3,5)"
   ]
  },
  {
   "cell_type": "code",
   "execution_count": 99,
   "id": "049bc59d",
   "metadata": {},
   "outputs": [],
   "source": [
    "def subract(a,b):\n",
    "    print (a-b)"
   ]
  },
  {
   "cell_type": "code",
   "execution_count": 100,
   "id": "b7a59576",
   "metadata": {},
   "outputs": [
    {
     "name": "stdout",
     "output_type": "stream",
     "text": [
      "2\n"
     ]
    }
   ],
   "source": [
    "subract(10,8)"
   ]
  },
  {
   "cell_type": "code",
   "execution_count": 102,
   "id": "74bff94b",
   "metadata": {},
   "outputs": [],
   "source": [
    "def multiply(a,b,c):\n",
    "    return a*b*c"
   ]
  },
  {
   "cell_type": "code",
   "execution_count": 103,
   "id": "19dbfd95",
   "metadata": {},
   "outputs": [
    {
     "data": {
      "text/plain": [
       "6"
      ]
     },
     "execution_count": 103,
     "metadata": {},
     "output_type": "execute_result"
    }
   ],
   "source": [
    "multiply (1,2,3)"
   ]
  },
  {
   "cell_type": "code",
   "execution_count": 109,
   "id": "5cb92a0c",
   "metadata": {},
   "outputs": [],
   "source": [
    "def div(a,b):\n",
    "    return a/b"
   ]
  },
  {
   "cell_type": "code",
   "execution_count": 110,
   "id": "3f21530b",
   "metadata": {},
   "outputs": [
    {
     "data": {
      "text/plain": [
       "5.0"
      ]
     },
     "execution_count": 110,
     "metadata": {},
     "output_type": "execute_result"
    }
   ],
   "source": [
    "div(10,2)\n"
   ]
  },
  {
   "cell_type": "code",
   "execution_count": 2,
   "id": "f0641ab7",
   "metadata": {},
   "outputs": [
    {
     "data": {
      "text/plain": [
       "10.0"
      ]
     },
     "execution_count": 2,
     "metadata": {},
     "output_type": "execute_result"
    }
   ],
   "source": [
    "import math\n",
    "\n",
    "math.sqrt(100)"
   ]
  },
  {
   "cell_type": "code",
   "execution_count": 3,
   "id": "a9461167",
   "metadata": {},
   "outputs": [
    {
     "data": {
      "text/plain": [
       "120"
      ]
     },
     "execution_count": 3,
     "metadata": {},
     "output_type": "execute_result"
    }
   ],
   "source": [
    "math.factorial(5)"
   ]
  },
  {
   "cell_type": "code",
   "execution_count": 4,
   "id": "c95f5c12",
   "metadata": {},
   "outputs": [
    {
     "data": {
      "text/plain": [
       "['__doc__',\n",
       " '__loader__',\n",
       " '__name__',\n",
       " '__package__',\n",
       " '__spec__',\n",
       " 'acos',\n",
       " 'acosh',\n",
       " 'asin',\n",
       " 'asinh',\n",
       " 'atan',\n",
       " 'atan2',\n",
       " 'atanh',\n",
       " 'ceil',\n",
       " 'comb',\n",
       " 'copysign',\n",
       " 'cos',\n",
       " 'cosh',\n",
       " 'degrees',\n",
       " 'dist',\n",
       " 'e',\n",
       " 'erf',\n",
       " 'erfc',\n",
       " 'exp',\n",
       " 'expm1',\n",
       " 'fabs',\n",
       " 'factorial',\n",
       " 'floor',\n",
       " 'fmod',\n",
       " 'frexp',\n",
       " 'fsum',\n",
       " 'gamma',\n",
       " 'gcd',\n",
       " 'hypot',\n",
       " 'inf',\n",
       " 'isclose',\n",
       " 'isfinite',\n",
       " 'isinf',\n",
       " 'isnan',\n",
       " 'isqrt',\n",
       " 'lcm',\n",
       " 'ldexp',\n",
       " 'lgamma',\n",
       " 'log',\n",
       " 'log10',\n",
       " 'log1p',\n",
       " 'log2',\n",
       " 'modf',\n",
       " 'nan',\n",
       " 'nextafter',\n",
       " 'perm',\n",
       " 'pi',\n",
       " 'pow',\n",
       " 'prod',\n",
       " 'radians',\n",
       " 'remainder',\n",
       " 'sin',\n",
       " 'sinh',\n",
       " 'sqrt',\n",
       " 'tan',\n",
       " 'tanh',\n",
       " 'tau',\n",
       " 'trunc',\n",
       " 'ulp']"
      ]
     },
     "execution_count": 4,
     "metadata": {},
     "output_type": "execute_result"
    }
   ],
   "source": [
    "dir(math)"
   ]
  },
  {
   "cell_type": "code",
   "execution_count": 6,
   "id": "868f6d23",
   "metadata": {},
   "outputs": [
    {
     "data": {
      "text/plain": [
       "57"
      ]
     },
     "execution_count": 6,
     "metadata": {},
     "output_type": "execute_result"
    }
   ],
   "source": [
    "round(56.6)"
   ]
  },
  {
   "cell_type": "code",
   "execution_count": 7,
   "id": "e6245fd5",
   "metadata": {},
   "outputs": [],
   "source": [
    "def add(a,b):\n",
    "    return a+b\n"
   ]
  },
  {
   "cell_type": "code",
   "execution_count": 8,
   "id": "7be13f44",
   "metadata": {},
   "outputs": [
    {
     "data": {
      "text/plain": [
       "8"
      ]
     },
     "execution_count": 8,
     "metadata": {},
     "output_type": "execute_result"
    }
   ],
   "source": [
    "add(3,5)"
   ]
  },
  {
   "cell_type": "code",
   "execution_count": 10,
   "id": "549020c8",
   "metadata": {},
   "outputs": [],
   "source": [
    "def add(a=5 , b=10):\n",
    "    return a+b"
   ]
  },
  {
   "cell_type": "code",
   "execution_count": 11,
   "id": "673c96e2",
   "metadata": {},
   "outputs": [
    {
     "data": {
      "text/plain": [
       "15"
      ]
     },
     "execution_count": 11,
     "metadata": {},
     "output_type": "execute_result"
    }
   ],
   "source": [
    "add()"
   ]
  },
  {
   "cell_type": "code",
   "execution_count": 12,
   "id": "b3eab5a2",
   "metadata": {},
   "outputs": [
    {
     "data": {
      "text/plain": [
       "20"
      ]
     },
     "execution_count": 12,
     "metadata": {},
     "output_type": "execute_result"
    }
   ],
   "source": [
    "add(10)"
   ]
  },
  {
   "cell_type": "code",
   "execution_count": 14,
   "id": "39a40a7b",
   "metadata": {},
   "outputs": [
    {
     "data": {
      "text/plain": [
       "55"
      ]
     },
     "execution_count": 14,
     "metadata": {},
     "output_type": "execute_result"
    }
   ],
   "source": [
    "add(b=50)"
   ]
  },
  {
   "cell_type": "code",
   "execution_count": 15,
   "id": "1690e54e",
   "metadata": {},
   "outputs": [
    {
     "data": {
      "text/plain": [
       "[1, 2, 3, 4, 5]"
      ]
     },
     "execution_count": 15,
     "metadata": {},
     "output_type": "execute_result"
    }
   ],
   "source": [
    "a = [1,2,3,4,5]\n",
    "a"
   ]
  },
  {
   "cell_type": "code",
   "execution_count": 18,
   "id": "1355d0cc",
   "metadata": {},
   "outputs": [
    {
     "data": {
      "text/plain": [
       "[1, 4, 9, 16, 25]"
      ]
     },
     "execution_count": 18,
     "metadata": {},
     "output_type": "execute_result"
    }
   ],
   "source": [
    "#Find the square root and add in new list\n",
    "l = []\n",
    "\n",
    "for i in a:\n",
    "    l.append(i*i)\n",
    "    \n",
    "l"
   ]
  },
  {
   "cell_type": "code",
   "execution_count": 19,
   "id": "2785eba6",
   "metadata": {},
   "outputs": [
    {
     "data": {
      "text/plain": [
       "[1, 8, 27, 64, 125]"
      ]
     },
     "execution_count": 19,
     "metadata": {},
     "output_type": "execute_result"
    }
   ],
   "source": [
    "#Find the cube root and add in new list\n",
    "d= []\n",
    "\n",
    "for i in a:\n",
    "    d.append(i*i*i)\n",
    "    \n",
    "d"
   ]
  },
  {
   "cell_type": "code",
   "execution_count": 21,
   "id": "22ab6d06",
   "metadata": {},
   "outputs": [
    {
     "data": {
      "text/plain": [
       "[1, 4, 9, 16, 25]"
      ]
     },
     "execution_count": 21,
     "metadata": {},
     "output_type": "execute_result"
    }
   ],
   "source": [
    "l = [i*i for i in a] #List Comprehension\n",
    "l"
   ]
  },
  {
   "cell_type": "code",
   "execution_count": 22,
   "id": "fb10d898",
   "metadata": {},
   "outputs": [
    {
     "data": {
      "text/plain": [
       "[1, 8, 27, 64, 125]"
      ]
     },
     "execution_count": 22,
     "metadata": {},
     "output_type": "execute_result"
    }
   ],
   "source": [
    "d = [i*i*i for i in a]\n",
    "d"
   ]
  },
  {
   "cell_type": "code",
   "execution_count": 23,
   "id": "65baf05e",
   "metadata": {},
   "outputs": [
    {
     "data": {
      "text/plain": [
       "[1, 2, 3, 4, 5, 6, 7, 8, 9, 10]"
      ]
     },
     "execution_count": 23,
     "metadata": {},
     "output_type": "execute_result"
    }
   ],
   "source": [
    "b = [1,2,3,4,5,6,7,8,9,10]\n",
    "b"
   ]
  },
  {
   "cell_type": "code",
   "execution_count": 27,
   "id": "8e1648b8",
   "metadata": {},
   "outputs": [
    {
     "data": {
      "text/plain": [
       "[4, 16, 36, 64, 100]"
      ]
     },
     "execution_count": 27,
     "metadata": {},
     "output_type": "execute_result"
    }
   ],
   "source": [
    "l = []\n",
    "\n",
    "for i in b:\n",
    "    if i%2 == 0:\n",
    "        l.append(i*i)\n",
    "l"
   ]
  },
  {
   "cell_type": "code",
   "execution_count": 29,
   "id": "d7f0d118",
   "metadata": {},
   "outputs": [
    {
     "data": {
      "text/plain": [
       "[4, 16, 36, 64, 100]"
      ]
     },
     "execution_count": 29,
     "metadata": {},
     "output_type": "execute_result"
    }
   ],
   "source": [
    "l = [i*i for i in b if i%2 == 0]\n",
    "l"
   ]
  },
  {
   "cell_type": "code",
   "execution_count": 36,
   "id": "e0c82ab8",
   "metadata": {},
   "outputs": [
    {
     "data": {
      "text/plain": [
       "[0,\n",
       " 4,\n",
       " 16,\n",
       " 36,\n",
       " 64,\n",
       " 100,\n",
       " 144,\n",
       " 196,\n",
       " 256,\n",
       " 324,\n",
       " 400,\n",
       " 484,\n",
       " 576,\n",
       " 676,\n",
       " 784,\n",
       " 900,\n",
       " 1024,\n",
       " 1156,\n",
       " 1296,\n",
       " 1444,\n",
       " 1600,\n",
       " 1764,\n",
       " 1936,\n",
       " 2116,\n",
       " 2304,\n",
       " 2500,\n",
       " 2704,\n",
       " 2916,\n",
       " 3136,\n",
       " 3364,\n",
       " 3600,\n",
       " 3844,\n",
       " 4096,\n",
       " 4356,\n",
       " 4624,\n",
       " 4900,\n",
       " 5184,\n",
       " 5476,\n",
       " 5776,\n",
       " 6084,\n",
       " 6400,\n",
       " 6724,\n",
       " 7056,\n",
       " 7396,\n",
       " 7744,\n",
       " 8100,\n",
       " 8464,\n",
       " 8836,\n",
       " 9216,\n",
       " 9604,\n",
       " 10000]"
      ]
     },
     "execution_count": 36,
     "metadata": {},
     "output_type": "execute_result"
    }
   ],
   "source": [
    "l = []\n",
    "#l = [i*i for i in range(101) if i%2 == 0] #Single line of code\n",
    "l = [i*i for i in range(0,101,2)]  #Minimize the code even from previous code\n",
    "l"
   ]
  },
  {
   "cell_type": "code",
   "execution_count": 37,
   "id": "576f1695",
   "metadata": {},
   "outputs": [
    {
     "data": {
      "text/plain": [
       "[0,\n",
       " 125,\n",
       " 1000,\n",
       " 3375,\n",
       " 8000,\n",
       " 15625,\n",
       " 27000,\n",
       " 42875,\n",
       " 64000,\n",
       " 91125,\n",
       " 125000,\n",
       " 166375,\n",
       " 216000,\n",
       " 274625,\n",
       " 343000,\n",
       " 421875,\n",
       " 512000,\n",
       " 614125,\n",
       " 729000,\n",
       " 857375,\n",
       " 1000000,\n",
       " 1157625,\n",
       " 1331000,\n",
       " 1520875,\n",
       " 1728000,\n",
       " 1953125,\n",
       " 2197000,\n",
       " 2460375,\n",
       " 2744000,\n",
       " 3048625,\n",
       " 3375000,\n",
       " 3723875,\n",
       " 4096000,\n",
       " 4492125,\n",
       " 4913000,\n",
       " 5359375,\n",
       " 5832000,\n",
       " 6331625,\n",
       " 6859000,\n",
       " 7414875,\n",
       " 8000000,\n",
       " 8615125,\n",
       " 9261000,\n",
       " 9938375,\n",
       " 10648000,\n",
       " 11390625,\n",
       " 12167000,\n",
       " 12977875,\n",
       " 13824000,\n",
       " 14706125,\n",
       " 15625000,\n",
       " 16581375,\n",
       " 17576000,\n",
       " 18609625,\n",
       " 19683000,\n",
       " 20796875,\n",
       " 21952000,\n",
       " 23149125,\n",
       " 24389000,\n",
       " 25672375,\n",
       " 27000000,\n",
       " 28372625,\n",
       " 29791000,\n",
       " 31255875,\n",
       " 32768000,\n",
       " 34328125,\n",
       " 35937000,\n",
       " 37595375,\n",
       " 39304000,\n",
       " 41063625,\n",
       " 42875000,\n",
       " 44738875,\n",
       " 46656000,\n",
       " 48627125,\n",
       " 50653000,\n",
       " 52734375,\n",
       " 54872000,\n",
       " 57066625,\n",
       " 59319000,\n",
       " 61629875,\n",
       " 64000000,\n",
       " 66430125,\n",
       " 68921000,\n",
       " 71473375,\n",
       " 74088000,\n",
       " 76765625,\n",
       " 79507000,\n",
       " 82312875,\n",
       " 85184000,\n",
       " 88121125,\n",
       " 91125000,\n",
       " 94196375,\n",
       " 97336000,\n",
       " 100544625,\n",
       " 103823000,\n",
       " 107171875,\n",
       " 110592000,\n",
       " 114084125,\n",
       " 117649000,\n",
       " 121287375,\n",
       " 125000000,\n",
       " 128787625,\n",
       " 132651000,\n",
       " 136590875,\n",
       " 140608000,\n",
       " 144703125,\n",
       " 148877000,\n",
       " 153130375,\n",
       " 157464000,\n",
       " 161878625,\n",
       " 166375000,\n",
       " 170953875,\n",
       " 175616000,\n",
       " 180362125,\n",
       " 185193000,\n",
       " 190109375,\n",
       " 195112000,\n",
       " 200201625,\n",
       " 205379000,\n",
       " 210644875,\n",
       " 216000000,\n",
       " 221445125,\n",
       " 226981000,\n",
       " 232608375,\n",
       " 238328000,\n",
       " 244140625,\n",
       " 250047000,\n",
       " 256047875,\n",
       " 262144000,\n",
       " 268336125,\n",
       " 274625000,\n",
       " 281011375,\n",
       " 287496000,\n",
       " 294079625,\n",
       " 300763000,\n",
       " 307546875,\n",
       " 314432000,\n",
       " 321419125,\n",
       " 328509000,\n",
       " 335702375,\n",
       " 343000000,\n",
       " 350402625,\n",
       " 357911000,\n",
       " 365525875,\n",
       " 373248000,\n",
       " 381078125,\n",
       " 389017000,\n",
       " 397065375,\n",
       " 405224000,\n",
       " 413493625,\n",
       " 421875000,\n",
       " 430368875,\n",
       " 438976000,\n",
       " 447697125,\n",
       " 456533000,\n",
       " 465484375,\n",
       " 474552000,\n",
       " 483736625,\n",
       " 493039000,\n",
       " 502459875,\n",
       " 512000000,\n",
       " 521660125,\n",
       " 531441000,\n",
       " 541343375,\n",
       " 551368000,\n",
       " 561515625,\n",
       " 571787000,\n",
       " 582182875,\n",
       " 592704000,\n",
       " 603351125,\n",
       " 614125000,\n",
       " 625026375,\n",
       " 636056000,\n",
       " 647214625,\n",
       " 658503000,\n",
       " 669921875,\n",
       " 681472000,\n",
       " 693154125,\n",
       " 704969000,\n",
       " 716917375,\n",
       " 729000000,\n",
       " 741217625,\n",
       " 753571000,\n",
       " 766060875,\n",
       " 778688000,\n",
       " 791453125,\n",
       " 804357000,\n",
       " 817400375,\n",
       " 830584000,\n",
       " 843908625,\n",
       " 857375000,\n",
       " 870983875,\n",
       " 884736000,\n",
       " 898632125,\n",
       " 912673000,\n",
       " 926859375,\n",
       " 941192000,\n",
       " 955671625,\n",
       " 970299000,\n",
       " 985074875,\n",
       " 1000000000]"
      ]
     },
     "execution_count": 37,
     "metadata": {},
     "output_type": "execute_result"
    }
   ],
   "source": [
    "l = []\n",
    "l = [i*i*i for i in range(0,1001,5)]  \n",
    "l"
   ]
  },
  {
   "cell_type": "markdown",
   "id": "af3428a5",
   "metadata": {},
   "source": [
    "### Libraries - Collection of functions \n",
    "* Pandas\n",
    "* Numpy\n",
    "* Matplotlib\n",
    "* Seaborn"
   ]
  },
  {
   "cell_type": "code",
   "execution_count": 38,
   "id": "e1a38313",
   "metadata": {},
   "outputs": [
    {
     "name": "stdout",
     "output_type": "stream",
     "text": [
      "Requirement already satisfied: pandas in d:\\softwares\\anaconda\\files\\lib\\site-packages (1.5.3)\n",
      "Requirement already satisfied: numpy>=1.21.0 in d:\\softwares\\anaconda\\files\\lib\\site-packages (from pandas) (1.23.5)\n",
      "Requirement already satisfied: python-dateutil>=2.8.1 in d:\\softwares\\anaconda\\files\\lib\\site-packages (from pandas) (2.8.2)\n",
      "Requirement already satisfied: pytz>=2020.1 in d:\\softwares\\anaconda\\files\\lib\\site-packages (from pandas) (2022.7)\n",
      "Requirement already satisfied: six>=1.5 in d:\\softwares\\anaconda\\files\\lib\\site-packages (from python-dateutil>=2.8.1->pandas) (1.16.0)\n",
      "Note: you may need to restart the kernel to use updated packages.\n"
     ]
    }
   ],
   "source": [
    "pip install pandas"
   ]
  },
  {
   "cell_type": "code",
   "execution_count": 39,
   "id": "f288aa5c",
   "metadata": {},
   "outputs": [],
   "source": [
    "#pip uninstall pandas"
   ]
  },
  {
   "cell_type": "code",
   "execution_count": null,
   "id": "a69981ef",
   "metadata": {},
   "outputs": [],
   "source": []
  },
  {
   "cell_type": "code",
   "execution_count": 40,
   "id": "7389871e",
   "metadata": {},
   "outputs": [
    {
     "data": {
      "text/plain": [
       "[1, 2, 3, 4, 5, 6, 7, 8, 9, 10]"
      ]
     },
     "execution_count": 40,
     "metadata": {},
     "output_type": "execute_result"
    }
   ],
   "source": [
    "#iterator\n",
    "\n",
    "b"
   ]
  },
  {
   "cell_type": "code",
   "execution_count": 41,
   "id": "a1a83c71",
   "metadata": {},
   "outputs": [
    {
     "name": "stdout",
     "output_type": "stream",
     "text": [
      "1\n",
      "2\n",
      "3\n",
      "4\n",
      "5\n",
      "6\n",
      "7\n",
      "8\n",
      "9\n",
      "10\n"
     ]
    }
   ],
   "source": [
    "for i in b:\n",
    "    print(i)"
   ]
  },
  {
   "cell_type": "code",
   "execution_count": 42,
   "id": "0e3e95b8",
   "metadata": {},
   "outputs": [
    {
     "data": {
      "text/plain": [
       "<list_iterator at 0x26417f5a290>"
      ]
     },
     "execution_count": 42,
     "metadata": {},
     "output_type": "execute_result"
    }
   ],
   "source": [
    "i = iter(b)\n",
    "i"
   ]
  },
  {
   "cell_type": "code",
   "execution_count": 43,
   "id": "4f67882f",
   "metadata": {},
   "outputs": [
    {
     "data": {
      "text/plain": [
       "1"
      ]
     },
     "execution_count": 43,
     "metadata": {},
     "output_type": "execute_result"
    }
   ],
   "source": [
    "next(i)"
   ]
  },
  {
   "cell_type": "code",
   "execution_count": 44,
   "id": "259c8c5e",
   "metadata": {},
   "outputs": [
    {
     "data": {
      "text/plain": [
       "2"
      ]
     },
     "execution_count": 44,
     "metadata": {},
     "output_type": "execute_result"
    }
   ],
   "source": [
    "next(i)"
   ]
  },
  {
   "cell_type": "code",
   "execution_count": 45,
   "id": "9d51b8e9",
   "metadata": {},
   "outputs": [
    {
     "data": {
      "text/plain": [
       "3"
      ]
     },
     "execution_count": 45,
     "metadata": {},
     "output_type": "execute_result"
    }
   ],
   "source": [
    "next(i)"
   ]
  },
  {
   "cell_type": "code",
   "execution_count": 46,
   "id": "9118820f",
   "metadata": {},
   "outputs": [
    {
     "data": {
      "text/plain": [
       "[1, 4, 9, 16, 25]"
      ]
     },
     "execution_count": 46,
     "metadata": {},
     "output_type": "execute_result"
    }
   ],
   "source": [
    "l= [i*i for i in a]\n",
    "l"
   ]
  },
  {
   "cell_type": "markdown",
   "id": "65db5e43",
   "metadata": {},
   "source": [
    "# Lambda function\n",
    "\n",
    "* Does not have any name\n",
    "* does not have return stmt\n",
    "* no def keyword\n",
    "* no paranthesis"
   ]
  },
  {
   "cell_type": "code",
   "execution_count": 47,
   "id": "1e0dc71c",
   "metadata": {},
   "outputs": [],
   "source": [
    "def square(n):\n",
    "    return n*n"
   ]
  },
  {
   "cell_type": "code",
   "execution_count": 48,
   "id": "87184054",
   "metadata": {},
   "outputs": [
    {
     "data": {
      "text/plain": [
       "25"
      ]
     },
     "execution_count": 48,
     "metadata": {},
     "output_type": "execute_result"
    }
   ],
   "source": [
    "square(5)"
   ]
  },
  {
   "cell_type": "code",
   "execution_count": 49,
   "id": "fa226cf7",
   "metadata": {},
   "outputs": [
    {
     "data": {
      "text/plain": [
       "16"
      ]
     },
     "execution_count": 49,
     "metadata": {},
     "output_type": "execute_result"
    }
   ],
   "source": [
    "sq =  lambda n: n*n #Like Parthiban comedy to erase one by one from def\n",
    "sq(4)"
   ]
  },
  {
   "cell_type": "code",
   "execution_count": 51,
   "id": "a6b54fe2",
   "metadata": {},
   "outputs": [],
   "source": [
    "add = lambda a,b: a+b"
   ]
  },
  {
   "cell_type": "code",
   "execution_count": 53,
   "id": "8a6b8ce7",
   "metadata": {},
   "outputs": [
    {
     "data": {
      "text/plain": [
       "10"
      ]
     },
     "execution_count": 53,
     "metadata": {},
     "output_type": "execute_result"
    }
   ],
   "source": [
    "add(5,5)"
   ]
  },
  {
   "cell_type": "code",
   "execution_count": 54,
   "id": "c739cf53",
   "metadata": {},
   "outputs": [
    {
     "data": {
      "text/plain": [
       "6"
      ]
     },
     "execution_count": 54,
     "metadata": {},
     "output_type": "execute_result"
    }
   ],
   "source": [
    "add = lambda a,b,c: a+b+c\n",
    "add(1,2,3)"
   ]
  },
  {
   "cell_type": "code",
   "execution_count": 58,
   "id": "adbdccf9",
   "metadata": {},
   "outputs": [],
   "source": [
    "def name(fname,lname):\n",
    "    print(\"fname:\",fname)\n",
    "    print(\"lname:\",lname)"
   ]
  },
  {
   "cell_type": "code",
   "execution_count": 63,
   "id": "95f25b4f",
   "metadata": {},
   "outputs": [
    {
     "name": "stdout",
     "output_type": "stream",
     "text": [
      "fname: K\n",
      "lname: s\n"
     ]
    }
   ],
   "source": [
    "name(\"K\",\"s\")"
   ]
  },
  {
   "cell_type": "code",
   "execution_count": 2,
   "id": "a591bc0b",
   "metadata": {},
   "outputs": [
    {
     "data": {
      "text/plain": [
       "'fname: K\\nlname: S'"
      ]
     },
     "execution_count": 2,
     "metadata": {},
     "output_type": "execute_result"
    }
   ],
   "source": [
    "name = lambda fname,lname: \"fname: {}\\nlname: {}\".format(fname,lname)\n",
    "name(\"K\",\"S\")"
   ]
  },
  {
   "cell_type": "code",
   "execution_count": 75,
   "id": "12b66f7f",
   "metadata": {},
   "outputs": [],
   "source": [
    "#map(logic.iterators)\n",
    "#To Find the square numbers of list\n",
    "sq = list(map(lambda n: n*n ,b))"
   ]
  },
  {
   "cell_type": "code",
   "execution_count": 76,
   "id": "28a8121b",
   "metadata": {},
   "outputs": [
    {
     "data": {
      "text/plain": [
       "[1, 2, 3, 4, 5, 6, 7, 8, 9, 10]"
      ]
     },
     "execution_count": 76,
     "metadata": {},
     "output_type": "execute_result"
    }
   ],
   "source": [
    "b"
   ]
  },
  {
   "cell_type": "code",
   "execution_count": 77,
   "id": "ab250372",
   "metadata": {},
   "outputs": [
    {
     "data": {
      "text/plain": [
       "[1, 4, 9, 16, 25, 36, 49, 64, 81, 100]"
      ]
     },
     "execution_count": 77,
     "metadata": {},
     "output_type": "execute_result"
    }
   ],
   "source": [
    "sq"
   ]
  },
  {
   "cell_type": "code",
   "execution_count": 78,
   "id": "d6f51b8c",
   "metadata": {},
   "outputs": [
    {
     "data": {
      "text/plain": [
       "[1, 8, 27, 64, 125, 216, 343, 512, 729, 1000]"
      ]
     },
     "execution_count": 78,
     "metadata": {},
     "output_type": "execute_result"
    }
   ],
   "source": [
    "#TO find the cube numbers of list\n",
    "cube=[]\n",
    "cube = list(map(lambda n: n*n*n ,b))\n",
    "cube"
   ]
  },
  {
   "cell_type": "code",
   "execution_count": 80,
   "id": "ea0cf7eb",
   "metadata": {},
   "outputs": [
    {
     "data": {
      "text/plain": [
       "[2, 4, 6, 8, 10]"
      ]
     },
     "execution_count": 80,
     "metadata": {},
     "output_type": "execute_result"
    }
   ],
   "source": [
    "#Filter(Logic,iterators)\n",
    "\n",
    "#To FIlter the even numbers\n",
    "even = list(filter(lambda n:n%2==0 , b))\n",
    "even"
   ]
  },
  {
   "cell_type": "markdown",
   "id": "d313e9fe",
   "metadata": {},
   "source": [
    "#### To Find the square of even number present in list b in one line \n",
    "* Hint : Lambda,map,filter"
   ]
  },
  {
   "cell_type": "code",
   "execution_count": 86,
   "id": "54398f4b",
   "metadata": {},
   "outputs": [
    {
     "data": {
      "text/plain": [
       "[4, 16, 36, 64, 100]"
      ]
     },
     "execution_count": 86,
     "metadata": {},
     "output_type": "execute_result"
    }
   ],
   "source": [
    "sq_of_even = list(map(lambda n:n*n,filter(lambda n:n%2==0,b))) \n",
    "#Filter the even numbers & Square the that number using map & convert in the list\n",
    "\n",
    "sq_of_even"
   ]
  },
  {
   "cell_type": "markdown",
   "id": "013d4a7a",
   "metadata": {},
   "source": [
    "### File Handling"
   ]
  },
  {
   "cell_type": "code",
   "execution_count": 34,
   "id": "cd792153",
   "metadata": {},
   "outputs": [
    {
     "data": {
      "text/plain": [
       "'Democracy is not a merely form of government.\\n\\nIt is essentially an attitude of respect & reverence towards fellowmen.\\n\\nCountry is not just a landscape.It is the collections of emotions of people living there.'"
      ]
     },
     "execution_count": 34,
     "metadata": {},
     "output_type": "execute_result"
    }
   ],
   "source": [
    "# File Handling\n",
    "f = open(r'C:\\Users\\karun\\OneDrive\\Desktop\\DR.BR.txt')\n",
    "f.read()"
   ]
  },
  {
   "cell_type": "code",
   "execution_count": 35,
   "id": "86bcc540",
   "metadata": {},
   "outputs": [
    {
     "data": {
      "text/plain": [
       "''"
      ]
     },
     "execution_count": 35,
     "metadata": {},
     "output_type": "execute_result"
    }
   ],
   "source": [
    "f.readline() #This is to read lines individually"
   ]
  },
  {
   "cell_type": "code",
   "execution_count": 36,
   "id": "aaeee235",
   "metadata": {},
   "outputs": [
    {
     "data": {
      "text/plain": [
       "''"
      ]
     },
     "execution_count": 36,
     "metadata": {},
     "output_type": "execute_result"
    }
   ],
   "source": [
    "f.readline()"
   ]
  },
  {
   "cell_type": "code",
   "execution_count": 37,
   "id": "7b851340",
   "metadata": {},
   "outputs": [
    {
     "data": {
      "text/plain": [
       "[]"
      ]
     },
     "execution_count": 37,
     "metadata": {},
     "output_type": "execute_result"
    }
   ],
   "source": [
    "f.readlines() #this is is read all lines at once and stored them in a list"
   ]
  },
  {
   "cell_type": "code",
   "execution_count": 38,
   "id": "ac30bfde",
   "metadata": {},
   "outputs": [],
   "source": [
    "f = open(r'C:\\Users\\karun\\OneDrive\\Desktop\\DR.BR.txt','w')\n",
    "f.write('Dr.B.R.Ambedkar')\n",
    "f.close()"
   ]
  },
  {
   "cell_type": "code",
   "execution_count": 39,
   "id": "ee18ae07",
   "metadata": {},
   "outputs": [],
   "source": [
    "f = open(r'C:\\Users\\karun\\OneDrive\\Desktop\\DR.BR.txt','a')\n",
    "f.write('\\n\\nC.N.Annadurai')\n",
    "f.close()"
   ]
  },
  {
   "cell_type": "code",
   "execution_count": 40,
   "id": "1c2de256",
   "metadata": {},
   "outputs": [
    {
     "data": {
      "text/plain": [
       "'Dr.B.R.Ambedkar\\n\\nC.N.Annadurai'"
      ]
     },
     "execution_count": 40,
     "metadata": {},
     "output_type": "execute_result"
    }
   ],
   "source": [
    "f = open(r'C:\\Users\\karun\\OneDrive\\Desktop\\DR.BR.txt')\n",
    "f.read()"
   ]
  },
  {
   "cell_type": "code",
   "execution_count": 41,
   "id": "594fc0ed",
   "metadata": {},
   "outputs": [
    {
     "data": {
      "text/plain": [
       "str"
      ]
     },
     "execution_count": 41,
     "metadata": {},
     "output_type": "execute_result"
    }
   ],
   "source": [
    "type(f.read())"
   ]
  },
  {
   "cell_type": "code",
   "execution_count": 1,
   "id": "4ded2b31",
   "metadata": {},
   "outputs": [],
   "source": [
    "class car:\n",
    "    pass"
   ]
  },
  {
   "cell_type": "code",
   "execution_count": 2,
   "id": "aa4f1e79",
   "metadata": {},
   "outputs": [],
   "source": [
    "class car: #Class name\n",
    "    engine = 1  #Variable i.e Member variable\n",
    "    brake = 1\n",
    "    accelarator = 1\n",
    "    wheels = 1\n",
    "    doors = 4\n",
    "    color = \"white\""
   ]
  },
  {
   "cell_type": "code",
   "execution_count": 13,
   "id": "bdd6bcbe",
   "metadata": {},
   "outputs": [],
   "source": [
    "maruti = car() #Object i.e copy of class means copy of blue print"
   ]
  },
  {
   "cell_type": "code",
   "execution_count": 14,
   "id": "6b40cfd8",
   "metadata": {},
   "outputs": [
    {
     "data": {
      "text/plain": [
       "4"
      ]
     },
     "execution_count": 14,
     "metadata": {},
     "output_type": "execute_result"
    }
   ],
   "source": [
    "maruti.doors"
   ]
  },
  {
   "cell_type": "code",
   "execution_count": 15,
   "id": "b37f4d58",
   "metadata": {},
   "outputs": [
    {
     "data": {
      "text/plain": [
       "1"
      ]
     },
     "execution_count": 15,
     "metadata": {},
     "output_type": "execute_result"
    }
   ],
   "source": [
    "maruti.engine"
   ]
  },
  {
   "cell_type": "code",
   "execution_count": 16,
   "id": "deb9ae3e",
   "metadata": {},
   "outputs": [
    {
     "data": {
      "text/plain": [
       "'white'"
      ]
     },
     "execution_count": 16,
     "metadata": {},
     "output_type": "execute_result"
    }
   ],
   "source": [
    "maruti.color"
   ]
  },
  {
   "cell_type": "code",
   "execution_count": 17,
   "id": "0bbc7f98",
   "metadata": {},
   "outputs": [],
   "source": [
    "bmw = car()"
   ]
  },
  {
   "cell_type": "code",
   "execution_count": 18,
   "id": "9cbe8b0d",
   "metadata": {},
   "outputs": [
    {
     "data": {
      "text/plain": [
       "4"
      ]
     },
     "execution_count": 18,
     "metadata": {},
     "output_type": "execute_result"
    }
   ],
   "source": [
    "bmw.doors"
   ]
  },
  {
   "cell_type": "code",
   "execution_count": 19,
   "id": "99fef162",
   "metadata": {},
   "outputs": [
    {
     "data": {
      "text/plain": [
       "'white'"
      ]
     },
     "execution_count": 19,
     "metadata": {},
     "output_type": "execute_result"
    }
   ],
   "source": [
    "bmw.color "
   ]
  },
  {
   "cell_type": "code",
   "execution_count": 20,
   "id": "a3459c16",
   "metadata": {},
   "outputs": [],
   "source": [
    "bmw.color = 'Red'"
   ]
  },
  {
   "cell_type": "code",
   "execution_count": 21,
   "id": "250ce8e1",
   "metadata": {},
   "outputs": [
    {
     "data": {
      "text/plain": [
       "'Red'"
      ]
     },
     "execution_count": 21,
     "metadata": {},
     "output_type": "execute_result"
    }
   ],
   "source": [
    "bmw.color"
   ]
  },
  {
   "cell_type": "code",
   "execution_count": 36,
   "id": "ac6b0581",
   "metadata": {},
   "outputs": [],
   "source": [
    "## Activity\n",
    "class bus():\n",
    "    door = 2\n",
    "    Engine = 1\n",
    "    color = 'yellow'\n",
    "    tyres = 6\n",
    "    seat = 64\n",
    "    fuel = 'Diesel'"
   ]
  },
  {
   "cell_type": "code",
   "execution_count": 37,
   "id": "bdc050e7",
   "metadata": {},
   "outputs": [],
   "source": [
    "Tata = bus() #Object"
   ]
  },
  {
   "cell_type": "code",
   "execution_count": 38,
   "id": "b93d7677",
   "metadata": {},
   "outputs": [
    {
     "data": {
      "text/plain": [
       "2"
      ]
     },
     "execution_count": 38,
     "metadata": {},
     "output_type": "execute_result"
    }
   ],
   "source": [
    "Tata.door\n"
   ]
  },
  {
   "cell_type": "code",
   "execution_count": 39,
   "id": "820c66af",
   "metadata": {},
   "outputs": [
    {
     "data": {
      "text/plain": [
       "1"
      ]
     },
     "execution_count": 39,
     "metadata": {},
     "output_type": "execute_result"
    }
   ],
   "source": [
    "Tata.Engine"
   ]
  },
  {
   "cell_type": "code",
   "execution_count": 40,
   "id": "8a10d152",
   "metadata": {},
   "outputs": [
    {
     "data": {
      "text/plain": [
       "'yellow'"
      ]
     },
     "execution_count": 40,
     "metadata": {},
     "output_type": "execute_result"
    }
   ],
   "source": [
    "Tata.color"
   ]
  },
  {
   "cell_type": "code",
   "execution_count": 41,
   "id": "108f2c46",
   "metadata": {},
   "outputs": [
    {
     "data": {
      "text/plain": [
       "64"
      ]
     },
     "execution_count": 41,
     "metadata": {},
     "output_type": "execute_result"
    }
   ],
   "source": [
    "Tata.seat"
   ]
  },
  {
   "cell_type": "code",
   "execution_count": 42,
   "id": "22bfcc33",
   "metadata": {},
   "outputs": [],
   "source": [
    "Leyland = bus()"
   ]
  },
  {
   "cell_type": "code",
   "execution_count": 43,
   "id": "91b157d8",
   "metadata": {},
   "outputs": [
    {
     "data": {
      "text/plain": [
       "'Diesel'"
      ]
     },
     "execution_count": 43,
     "metadata": {},
     "output_type": "execute_result"
    }
   ],
   "source": [
    "Leyland.fuel"
   ]
  },
  {
   "cell_type": "code",
   "execution_count": 44,
   "id": "30ccaec2",
   "metadata": {},
   "outputs": [
    {
     "data": {
      "text/plain": [
       "64"
      ]
     },
     "execution_count": 44,
     "metadata": {},
     "output_type": "execute_result"
    }
   ],
   "source": [
    "Leyland.seat"
   ]
  },
  {
   "cell_type": "code",
   "execution_count": 45,
   "id": "25c1eba5",
   "metadata": {},
   "outputs": [],
   "source": [
    "Leyland.seat = 75"
   ]
  },
  {
   "cell_type": "code",
   "execution_count": 46,
   "id": "866daff5",
   "metadata": {},
   "outputs": [
    {
     "data": {
      "text/plain": [
       "75"
      ]
     },
     "execution_count": 46,
     "metadata": {},
     "output_type": "execute_result"
    }
   ],
   "source": [
    "Leyland.seat\n"
   ]
  },
  {
   "cell_type": "code",
   "execution_count": 47,
   "id": "e7659740",
   "metadata": {},
   "outputs": [
    {
     "data": {
      "text/plain": [
       "64"
      ]
     },
     "execution_count": 47,
     "metadata": {},
     "output_type": "execute_result"
    }
   ],
   "source": [
    "Tata.seat"
   ]
  },
  {
   "cell_type": "code",
   "execution_count": 48,
   "id": "4767969c",
   "metadata": {},
   "outputs": [],
   "source": [
    "class car: #Class name\n",
    "    engine = 1  #Variable i.e Member variable\n",
    "    brake = 1\n",
    "    wheels = 1\n",
    "    doors = 4\n",
    "    color = \"white\"\n",
    "    \n",
    "    def accelarator(self):\n",
    "        print(\"Car will start moving\")"
   ]
  },
  {
   "cell_type": "code",
   "execution_count": 49,
   "id": "63ce308e",
   "metadata": {},
   "outputs": [],
   "source": [
    "maruti = car()"
   ]
  },
  {
   "cell_type": "code",
   "execution_count": 50,
   "id": "ac84f1c5",
   "metadata": {},
   "outputs": [
    {
     "name": "stdout",
     "output_type": "stream",
     "text": [
      "Car will start moving\n"
     ]
    }
   ],
   "source": [
    "maruti.accelarator()"
   ]
  },
  {
   "cell_type": "code",
   "execution_count": 51,
   "id": "8e8cf2d1",
   "metadata": {},
   "outputs": [],
   "source": [
    "class car: #Class name\n",
    "    engine = 1  #Variable i.e Member variable\n",
    "    wheels = 1\n",
    "    doors = 4\n",
    "    color = \"white\"\n",
    "    \n",
    "    def accelarator(self):\n",
    "        print(\"Car will start moving\")\n",
    "    def brake(self):\n",
    "        print(\"Car will slowly stop\")\n",
    "        "
   ]
  },
  {
   "cell_type": "code",
   "execution_count": 52,
   "id": "e2a4ce7d",
   "metadata": {},
   "outputs": [],
   "source": [
    "maruti = car()"
   ]
  },
  {
   "cell_type": "code",
   "execution_count": 53,
   "id": "f52292e5",
   "metadata": {},
   "outputs": [
    {
     "name": "stdout",
     "output_type": "stream",
     "text": [
      "Car will slowly stop\n"
     ]
    }
   ],
   "source": [
    "maruti.brake()"
   ]
  },
  {
   "cell_type": "code",
   "execution_count": 54,
   "id": "21cf8b1d",
   "metadata": {},
   "outputs": [
    {
     "name": "stdout",
     "output_type": "stream",
     "text": [
      "Car will start moving\n"
     ]
    }
   ],
   "source": [
    "maruti.accelarator()"
   ]
  },
  {
   "cell_type": "code",
   "execution_count": 55,
   "id": "4a32bda8",
   "metadata": {},
   "outputs": [],
   "source": [
    "## Activity\n",
    "class bus():\n",
    "    door = 2\n",
    "    Engine = 1\n",
    "    color = 'yellow'\n",
    "    tyres = 6\n",
    "    seat = 64\n",
    "    fuel = 'Diesel'\n",
    "    \n",
    "    def accelarator(self):\n",
    "        print(\"Bus will start moving\")\n",
    "    def brake(self):\n",
    "        print(\"Bus will slowly stop\")\n",
    "        "
   ]
  },
  {
   "cell_type": "code",
   "execution_count": 56,
   "id": "6c56d3fe",
   "metadata": {},
   "outputs": [],
   "source": [
    "Tata = bus()"
   ]
  },
  {
   "cell_type": "code",
   "execution_count": 57,
   "id": "096972f5",
   "metadata": {},
   "outputs": [
    {
     "name": "stdout",
     "output_type": "stream",
     "text": [
      "Bus will start moving\n"
     ]
    }
   ],
   "source": [
    "Tata.accelarator()"
   ]
  },
  {
   "cell_type": "code",
   "execution_count": 58,
   "id": "43fbe72a",
   "metadata": {},
   "outputs": [
    {
     "name": "stdout",
     "output_type": "stream",
     "text": [
      "Bus will slowly stop\n"
     ]
    }
   ],
   "source": [
    "Tata.brake()"
   ]
  },
  {
   "cell_type": "code",
   "execution_count": 59,
   "id": "fb3ce5fb",
   "metadata": {},
   "outputs": [],
   "source": [
    "Leyland = bus()"
   ]
  },
  {
   "cell_type": "code",
   "execution_count": 60,
   "id": "3b48151c",
   "metadata": {},
   "outputs": [
    {
     "data": {
      "text/plain": [
       "'yellow'"
      ]
     },
     "execution_count": 60,
     "metadata": {},
     "output_type": "execute_result"
    }
   ],
   "source": [
    "Leyland.color"
   ]
  },
  {
   "cell_type": "code",
   "execution_count": 61,
   "id": "be8d95f3",
   "metadata": {},
   "outputs": [],
   "source": [
    "#Activity\n",
    "class Bakery():\n",
    "    drinks = ['Tea','Coffee','Milk']\n",
    "    bake = ['Cake','Pastry']\n",
    "    sweets = ['Jamun','Laddu']\n",
    "    "
   ]
  },
  {
   "cell_type": "code",
   "execution_count": 62,
   "id": "848012c9",
   "metadata": {},
   "outputs": [],
   "source": [
    "r = Bakery()"
   ]
  },
  {
   "cell_type": "code",
   "execution_count": 63,
   "id": "297deb9c",
   "metadata": {},
   "outputs": [
    {
     "data": {
      "text/plain": [
       "['Tea', 'Coffee', 'Milk']"
      ]
     },
     "execution_count": 63,
     "metadata": {},
     "output_type": "execute_result"
    }
   ],
   "source": [
    "Bakery.drinks"
   ]
  },
  {
   "cell_type": "code",
   "execution_count": 64,
   "id": "f3a183a3",
   "metadata": {},
   "outputs": [
    {
     "data": {
      "text/plain": [
       "['Jamun', 'Laddu']"
      ]
     },
     "execution_count": 64,
     "metadata": {},
     "output_type": "execute_result"
    }
   ],
   "source": [
    "Bakery.sweets"
   ]
  },
  {
   "cell_type": "markdown",
   "id": "284e481c",
   "metadata": {},
   "source": [
    "## Inheritance"
   ]
  },
  {
   "cell_type": "code",
   "execution_count": 65,
   "id": "840d3402",
   "metadata": {},
   "outputs": [],
   "source": [
    "class parent():\n",
    "    a = 1"
   ]
  },
  {
   "cell_type": "code",
   "execution_count": 66,
   "id": "3e8c4d78",
   "metadata": {},
   "outputs": [],
   "source": [
    "class child():\n",
    "    pass;"
   ]
  },
  {
   "cell_type": "code",
   "execution_count": 67,
   "id": "2931562d",
   "metadata": {},
   "outputs": [],
   "source": [
    "o = child()"
   ]
  },
  {
   "cell_type": "code",
   "execution_count": 68,
   "id": "cf70c62f",
   "metadata": {},
   "outputs": [
    {
     "ename": "AttributeError",
     "evalue": "'child' object has no attribute 'a'",
     "output_type": "error",
     "traceback": [
      "\u001b[1;31m---------------------------------------------------------------------------\u001b[0m",
      "\u001b[1;31mAttributeError\u001b[0m                            Traceback (most recent call last)",
      "Cell \u001b[1;32mIn[68], line 1\u001b[0m\n\u001b[1;32m----> 1\u001b[0m \u001b[43mo\u001b[49m\u001b[38;5;241;43m.\u001b[39;49m\u001b[43ma\u001b[49m\n",
      "\u001b[1;31mAttributeError\u001b[0m: 'child' object has no attribute 'a'"
     ]
    }
   ],
   "source": [
    "o.a"
   ]
  },
  {
   "cell_type": "code",
   "execution_count": 71,
   "id": "5c56d0ef",
   "metadata": {},
   "outputs": [],
   "source": [
    "class child(parent): #Single Inheritance\n",
    "    pass;"
   ]
  },
  {
   "cell_type": "code",
   "execution_count": 72,
   "id": "ce2815e2",
   "metadata": {},
   "outputs": [],
   "source": [
    "o= child()"
   ]
  },
  {
   "cell_type": "code",
   "execution_count": 73,
   "id": "2450d1e0",
   "metadata": {},
   "outputs": [
    {
     "data": {
      "text/plain": [
       "1"
      ]
     },
     "execution_count": 73,
     "metadata": {},
     "output_type": "execute_result"
    }
   ],
   "source": [
    "o.a"
   ]
  },
  {
   "cell_type": "code",
   "execution_count": 82,
   "id": "88e85a8a",
   "metadata": {},
   "outputs": [],
   "source": [
    "class PC():\n",
    "    d=5"
   ]
  },
  {
   "cell_type": "code",
   "execution_count": 83,
   "id": "c300c153",
   "metadata": {},
   "outputs": [],
   "source": [
    "class lap():\n",
    "    pass;"
   ]
  },
  {
   "cell_type": "code",
   "execution_count": 84,
   "id": "bcff521d",
   "metadata": {},
   "outputs": [],
   "source": [
    "class lap(PC):\n",
    "    pass;"
   ]
  },
  {
   "cell_type": "code",
   "execution_count": 85,
   "id": "0c329ccf",
   "metadata": {},
   "outputs": [],
   "source": [
    "k = lap()"
   ]
  },
  {
   "cell_type": "code",
   "execution_count": 86,
   "id": "34732b21",
   "metadata": {},
   "outputs": [
    {
     "data": {
      "text/plain": [
       "5"
      ]
     },
     "execution_count": 86,
     "metadata": {},
     "output_type": "execute_result"
    }
   ],
   "source": [
    "k.d"
   ]
  },
  {
   "cell_type": "code",
   "execution_count": 87,
   "id": "ea13512c",
   "metadata": {},
   "outputs": [],
   "source": [
    "class father():\n",
    "    a = 1"
   ]
  },
  {
   "cell_type": "code",
   "execution_count": 88,
   "id": "811bbb67",
   "metadata": {},
   "outputs": [],
   "source": [
    "class mother():\n",
    "    b = 2"
   ]
  },
  {
   "cell_type": "code",
   "execution_count": 89,
   "id": "e81e740c",
   "metadata": {},
   "outputs": [],
   "source": [
    "class baby(father,mother):\n",
    "    pass;"
   ]
  },
  {
   "cell_type": "code",
   "execution_count": 90,
   "id": "bd93cf77",
   "metadata": {},
   "outputs": [],
   "source": [
    "g= baby()"
   ]
  },
  {
   "cell_type": "code",
   "execution_count": 91,
   "id": "1d79545f",
   "metadata": {},
   "outputs": [
    {
     "data": {
      "text/plain": [
       "1"
      ]
     },
     "execution_count": 91,
     "metadata": {},
     "output_type": "execute_result"
    }
   ],
   "source": [
    "g.a"
   ]
  },
  {
   "cell_type": "code",
   "execution_count": 92,
   "id": "72a67d6f",
   "metadata": {},
   "outputs": [
    {
     "data": {
      "text/plain": [
       "2"
      ]
     },
     "execution_count": 92,
     "metadata": {},
     "output_type": "execute_result"
    }
   ],
   "source": [
    "g.b"
   ]
  },
  {
   "cell_type": "code",
   "execution_count": 96,
   "id": "3bab2e54",
   "metadata": {},
   "outputs": [],
   "source": [
    "class primary():\n",
    "    f = 'karuna'"
   ]
  },
  {
   "cell_type": "code",
   "execution_count": 97,
   "id": "c8fb680e",
   "metadata": {},
   "outputs": [],
   "source": [
    "class sec():\n",
    "    t = 'sagar'"
   ]
  },
  {
   "cell_type": "code",
   "execution_count": 98,
   "id": "81f7e3f3",
   "metadata": {},
   "outputs": [],
   "source": [
    "class tertiary(primary,sec):\n",
    "    pass;"
   ]
  },
  {
   "cell_type": "code",
   "execution_count": 99,
   "id": "0a5ff4f4",
   "metadata": {},
   "outputs": [],
   "source": [
    "p = tertiary()"
   ]
  },
  {
   "cell_type": "code",
   "execution_count": 100,
   "id": "931e8691",
   "metadata": {},
   "outputs": [
    {
     "data": {
      "text/plain": [
       "'karuna'"
      ]
     },
     "execution_count": 100,
     "metadata": {},
     "output_type": "execute_result"
    }
   ],
   "source": [
    "p.f"
   ]
  },
  {
   "cell_type": "code",
   "execution_count": 101,
   "id": "b7ae047e",
   "metadata": {},
   "outputs": [
    {
     "data": {
      "text/plain": [
       "'sagar'"
      ]
     },
     "execution_count": 101,
     "metadata": {},
     "output_type": "execute_result"
    }
   ],
   "source": [
    "p.t"
   ]
  },
  {
   "cell_type": "code",
   "execution_count": 102,
   "id": "a675858b",
   "metadata": {},
   "outputs": [],
   "source": [
    "#Activity\n",
    "\n",
    "class Mall():\n",
    "    Grociries = ['Rice','Sugar','Wheat','Oil']\n",
    "    Cosmetics = ['Soap','Moistrizer','Facecream','Sunscreen']\n",
    "    Stationary = ['Pen','Pencil','Eraser','Sharpner']\n",
    "    Textile = ['Shirt','Pant','Saree','Chudi']\n",
    "    Canteen = ['Indian','Chinese','Italian','Continential']"
   ]
  },
  {
   "cell_type": "code",
   "execution_count": 103,
   "id": "660e26b9",
   "metadata": {},
   "outputs": [],
   "source": [
    "Phoenix = Mall()"
   ]
  },
  {
   "cell_type": "code",
   "execution_count": 104,
   "id": "ff43c4af",
   "metadata": {},
   "outputs": [
    {
     "data": {
      "text/plain": [
       "['Shirt', 'Pant', 'Saree', 'Chudi']"
      ]
     },
     "execution_count": 104,
     "metadata": {},
     "output_type": "execute_result"
    }
   ],
   "source": [
    "Phoenix.Textile"
   ]
  },
  {
   "cell_type": "code",
   "execution_count": 105,
   "id": "5260ca39",
   "metadata": {},
   "outputs": [],
   "source": [
    "Phoenix.drink=['Tea','Coffee','Hot Chocolate','Cold coffee']"
   ]
  },
  {
   "cell_type": "code",
   "execution_count": 106,
   "id": "0c89b805",
   "metadata": {},
   "outputs": [
    {
     "data": {
      "text/plain": [
       "['Tea', 'Coffee', 'Hot Chocolate', 'Cold coffee']"
      ]
     },
     "execution_count": 106,
     "metadata": {},
     "output_type": "execute_result"
    }
   ],
   "source": [
    "Phoenix.drink"
   ]
  },
  {
   "cell_type": "code",
   "execution_count": 107,
   "id": "b68ee108",
   "metadata": {},
   "outputs": [],
   "source": [
    "class Retail():\n",
    "    drink=['Tea','Coffee','Hot Chocolate','Cold coffee']"
   ]
  },
  {
   "cell_type": "code",
   "execution_count": 108,
   "id": "2376a11a",
   "metadata": {},
   "outputs": [],
   "source": [
    "class cus(Mall,Retail):\n",
    "    pass;"
   ]
  },
  {
   "cell_type": "code",
   "execution_count": 109,
   "id": "6dde3b58",
   "metadata": {},
   "outputs": [],
   "source": [
    "a = cus()"
   ]
  },
  {
   "cell_type": "code",
   "execution_count": 110,
   "id": "d0b4e2ee",
   "metadata": {},
   "outputs": [
    {
     "data": {
      "text/plain": [
       "['Tea', 'Coffee', 'Hot Chocolate', 'Cold coffee']"
      ]
     },
     "execution_count": 110,
     "metadata": {},
     "output_type": "execute_result"
    }
   ],
   "source": [
    "a.drink"
   ]
  },
  {
   "cell_type": "code",
   "execution_count": 111,
   "id": "8a90d25f",
   "metadata": {},
   "outputs": [
    {
     "data": {
      "text/plain": [
       "['Soap', 'Moistrizer', 'Facecream', 'Sunscreen']"
      ]
     },
     "execution_count": 111,
     "metadata": {},
     "output_type": "execute_result"
    }
   ],
   "source": [
    "a.Cosmetics"
   ]
  },
  {
   "cell_type": "code",
   "execution_count": 113,
   "id": "c8ff5b60",
   "metadata": {},
   "outputs": [
    {
     "data": {
      "text/plain": [
       "['Rice', 'Sugar', 'Wheat', 'Oil']"
      ]
     },
     "execution_count": 113,
     "metadata": {},
     "output_type": "execute_result"
    }
   ],
   "source": [
    "a.Grociries"
   ]
  },
  {
   "cell_type": "code",
   "execution_count": 114,
   "id": "a37cf792",
   "metadata": {},
   "outputs": [
    {
     "data": {
      "text/plain": [
       "'Saree'"
      ]
     },
     "execution_count": 114,
     "metadata": {},
     "output_type": "execute_result"
    }
   ],
   "source": [
    "a.Textile[2]"
   ]
  },
  {
   "cell_type": "code",
   "execution_count": 121,
   "id": "9f85e6e0",
   "metadata": {},
   "outputs": [
    {
     "data": {
      "text/plain": [
       "['1234567890']"
      ]
     },
     "execution_count": 121,
     "metadata": {},
     "output_type": "execute_result"
    }
   ],
   "source": [
    "import re\n",
    "\n",
    "txt= '''Karuna number is 1234567890 \n",
    "mail id is karuna@gmail.com\n",
    "age is 36\n",
    "altenate mob num is (948)-960-5547\n",
    "'''\n",
    "\n",
    "pattern = '\\d{10}'\n",
    "\n",
    "re.findall(pattern,txt)"
   ]
  },
  {
   "cell_type": "code",
   "execution_count": 122,
   "id": "0958f97e",
   "metadata": {},
   "outputs": [],
   "source": [
    "patter = '[a-z]*@[a-z]*.[a-z]{2,3}'"
   ]
  },
  {
   "cell_type": "code",
   "execution_count": 123,
   "id": "601851f7",
   "metadata": {},
   "outputs": [
    {
     "data": {
      "text/plain": [
       "['karuna@gmail.com']"
      ]
     },
     "execution_count": 123,
     "metadata": {},
     "output_type": "execute_result"
    }
   ],
   "source": [
    "re.findall(patter,txt)"
   ]
  },
  {
   "cell_type": "code",
   "execution_count": 124,
   "id": "a7825731",
   "metadata": {},
   "outputs": [],
   "source": [
    "pattern = 'age[a-z] '"
   ]
  },
  {
   "cell_type": "code",
   "execution_count": 2,
   "id": "4031b7ba",
   "metadata": {},
   "outputs": [],
   "source": [
    "import pickle"
   ]
  },
  {
   "cell_type": "markdown",
   "id": "33102f47",
   "metadata": {},
   "source": [
    "#####  Converting the raw data into binary data"
   ]
  },
  {
   "cell_type": "code",
   "execution_count": 3,
   "id": "6f768cd0",
   "metadata": {},
   "outputs": [],
   "source": [
    "mylist = ['a','b','c','d']\n",
    "\n",
    "#fh = open('datgafile.txt','w') read close() - Traditional way of open read & close your file\n",
    "\n",
    "with open ('datafile.txt','wb')as fh:\n",
    "    pickle.dump(mylist, fh)"
   ]
  },
  {
   "cell_type": "code",
   "execution_count": 4,
   "id": "25508fc0",
   "metadata": {},
   "outputs": [
    {
     "data": {
      "text/plain": [
       "'C:\\\\Users\\\\karun\\\\Guvi DS'"
      ]
     },
     "execution_count": 4,
     "metadata": {},
     "output_type": "execute_result"
    }
   ],
   "source": [
    "pwd #To find the location of file(PWD - Present Working Directory)"
   ]
  },
  {
   "cell_type": "code",
   "execution_count": 5,
   "id": "dd037165",
   "metadata": {},
   "outputs": [],
   "source": [
    "line = 'Earth is very,very old-millions & millions of years old. And for long, long time there was no men or women who living in it'\n",
    "with open('Nehru.txt','wb') as letters:\n",
    "    pickle.dump(line,letters)"
   ]
  },
  {
   "cell_type": "code",
   "execution_count": 6,
   "id": "bf4f984d",
   "metadata": {},
   "outputs": [
    {
     "data": {
      "text/plain": [
       "'C:\\\\Users\\\\karun\\\\Guvi DS'"
      ]
     },
     "execution_count": 6,
     "metadata": {},
     "output_type": "execute_result"
    }
   ],
   "source": [
    "pwd"
   ]
  },
  {
   "cell_type": "markdown",
   "id": "5838e0ae",
   "metadata": {},
   "source": [
    "##### Converting the Binary data into raw data"
   ]
  },
  {
   "cell_type": "code",
   "execution_count": 7,
   "id": "30e8bd82",
   "metadata": {},
   "outputs": [
    {
     "name": "stdout",
     "output_type": "stream",
     "text": [
      "['a', 'b', 'c', 'd']\n"
     ]
    }
   ],
   "source": [
    "import pickle\n",
    "a = open('datafile.txt','rb')\n",
    "b = pickle.load(a)\n",
    "print(b)"
   ]
  },
  {
   "cell_type": "code",
   "execution_count": 8,
   "id": "28bb1f79",
   "metadata": {},
   "outputs": [
    {
     "name": "stdout",
     "output_type": "stream",
     "text": [
      "Earth is very,very old-millions & millions of years old. And for long, long time there was no men or women who living in it\n"
     ]
    }
   ],
   "source": [
    "d = open('Nehru.txt','rb')\n",
    "e = pickle.load(d)\n",
    "print(e)"
   ]
  },
  {
   "cell_type": "code",
   "execution_count": 9,
   "id": "382ed3f2",
   "metadata": {},
   "outputs": [],
   "source": [
    "TeamId = { 1:'Karuna',2:'54698',3:'Naveen',4:'65',5:'Amazon',6:'Jeevan'} #creating a dict\n",
    "pickling_on = open('EmpID.pickle','wb') #File format change to pickle to reduce memory\n"
   ]
  },
  {
   "cell_type": "markdown",
   "id": "4d58faf1",
   "metadata": {},
   "source": [
    "### Json"
   ]
  },
  {
   "cell_type": "code",
   "execution_count": 10,
   "id": "6fb22ba9",
   "metadata": {},
   "outputs": [],
   "source": [
    "import json"
   ]
  },
  {
   "cell_type": "code",
   "execution_count": 17,
   "id": "fa231d3b",
   "metadata": {},
   "outputs": [
    {
     "name": "stdout",
     "output_type": "stream",
     "text": [
      "27\n"
     ]
    }
   ],
   "source": [
    "#some json\n",
    "\n",
    "x = '{\"name\":\"Karuna\",\"age\":27,\"city\":\"ODC\"}'\n",
    "\n",
    "#parse x\n",
    "y = json.loads(x) #Converts json to Dict\n",
    "\n",
    "#the result is a python Dict\n",
    "print(y[\"age\"])"
   ]
  },
  {
   "cell_type": "code",
   "execution_count": 23,
   "id": "7b721ee6",
   "metadata": {},
   "outputs": [
    {
     "name": "stdout",
     "output_type": "stream",
     "text": [
      "{\"name\": \"Karuna\", \"age\": 27, \"city\": \"ODC\"}\n"
     ]
    }
   ],
   "source": [
    "#A python object-Dict\n",
    "\n",
    "x = {\"name\":\"Karuna\",\"age\":27,\"city\":\"ODC\"}\n",
    "\n",
    "y = json.dumps(x) #Dict into json\n",
    "\n",
    "#the result is a json string\n",
    "print(y)"
   ]
  },
  {
   "cell_type": "code",
   "execution_count": null,
   "id": "9189b0a1",
   "metadata": {},
   "outputs": [],
   "source": []
  }
 ],
 "metadata": {
  "kernelspec": {
   "display_name": "Python 3 (ipykernel)",
   "language": "python",
   "name": "python3"
  },
  "language_info": {
   "codemirror_mode": {
    "name": "ipython",
    "version": 3
   },
   "file_extension": ".py",
   "mimetype": "text/x-python",
   "name": "python",
   "nbconvert_exporter": "python",
   "pygments_lexer": "ipython3",
   "version": "3.10.9"
  }
 },
 "nbformat": 4,
 "nbformat_minor": 5
}
